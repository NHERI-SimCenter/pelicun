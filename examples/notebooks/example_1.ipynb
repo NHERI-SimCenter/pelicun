{
 "cells": [
  {
   "cell_type": "markdown",
   "id": "30f1917c",
   "metadata": {},
   "source": [
    "# Example 1: Simple loss function."
   ]
  },
  {
   "cell_type": "markdown",
   "id": "8af39297",
   "metadata": {
    "cell_marker": "\"\"\""
   },
   "source": [
    "In this example, a single loss function is defined as a 1:1 mapping of the input EDP.\n",
    "This means that the resulting loss distribution will be the same as the EDP distribution, allowing us to test and confirm that this is what happens."
   ]
  },
  {
   "cell_type": "code",
   "execution_count": 1,
   "id": "e9ca2715",
   "metadata": {
    "execution": {
     "iopub.execute_input": "2025-05-16T19:02:28.672020Z",
     "iopub.status.busy": "2025-05-16T19:02:28.671800Z",
     "iopub.status.idle": "2025-05-16T19:02:29.345977Z",
     "shell.execute_reply": "2025-05-16T19:02:29.345281Z"
    }
   },
   "outputs": [],
   "source": [
    "from __future__ import annotations\n",
    "\n",
    "import numpy as np\n",
    "import pandas as pd\n",
    "\n",
    "from pelicun import assessment, file_io"
   ]
  },
  {
   "cell_type": "code",
   "execution_count": 2,
   "id": "1f35f9ac",
   "metadata": {
    "execution": {
     "iopub.execute_input": "2025-05-16T19:02:29.348395Z",
     "iopub.status.busy": "2025-05-16T19:02:29.348077Z",
     "iopub.status.idle": "2025-05-16T19:02:29.351396Z",
     "shell.execute_reply": "2025-05-16T19:02:29.350799Z"
    }
   },
   "outputs": [],
   "source": [
    "sample_size = 100000"
   ]
  },
  {
   "cell_type": "code",
   "execution_count": 3,
   "id": "25b6213b",
   "metadata": {
    "execution": {
     "iopub.execute_input": "2025-05-16T19:02:29.353455Z",
     "iopub.status.busy": "2025-05-16T19:02:29.353243Z",
     "iopub.status.idle": "2025-05-16T19:02:29.357828Z",
     "shell.execute_reply": "2025-05-16T19:02:29.357284Z"
    }
   },
   "outputs": [],
   "source": [
    "# initialize a pelicun assessment\n",
    "asmnt = assessment.Assessment({'PrintLog': False, 'Seed': 42})"
   ]
  },
  {
   "cell_type": "code",
   "execution_count": 4,
   "id": "cbb60b8f",
   "metadata": {
    "execution": {
     "iopub.execute_input": "2025-05-16T19:02:29.360077Z",
     "iopub.status.busy": "2025-05-16T19:02:29.359671Z",
     "iopub.status.idle": "2025-05-16T19:02:29.446507Z",
     "shell.execute_reply": "2025-05-16T19:02:29.445905Z"
    }
   },
   "outputs": [],
   "source": [
    "\n",
    "#\n",
    "# Demands\n",
    "#\n",
    "\n",
    "demands = pd.DataFrame(\n",
    "    {\n",
    "        'Theta_0': [0.50],\n",
    "        'Theta_1': [0.90],\n",
    "        'Family': ['lognormal'],\n",
    "        'Units': ['mps2'],\n",
    "    },\n",
    "    index=pd.MultiIndex.from_tuples(\n",
    "        [\n",
    "            ('PFA', '0', '1'),\n",
    "        ],\n",
    "    ),\n",
    ")\n",
    "\n",
    "asmnt.demand.load_model({'marginals': demands})\n",
    "\n",
    "asmnt.demand.generate_sample({'SampleSize': sample_size})\n",
    "\n",
    "#\n",
    "# Asset\n",
    "#\n",
    "\n",
    "asmnt.stories = 1\n",
    "\n",
    "cmp_marginals = pd.read_csv('example_1/CMP_marginals.csv', index_col=0)\n",
    "cmp_marginals['Blocks'] = cmp_marginals['Blocks']\n",
    "asmnt.asset.load_cmp_model({'marginals': cmp_marginals})\n",
    "\n",
    "asmnt.asset.generate_cmp_sample(sample_size)"
   ]
  },
  {
   "cell_type": "code",
   "execution_count": 5,
   "id": "bc25b1d4",
   "metadata": {
    "execution": {
     "iopub.execute_input": "2025-05-16T19:02:29.448975Z",
     "iopub.status.busy": "2025-05-16T19:02:29.448548Z",
     "iopub.status.idle": "2025-05-16T19:02:29.451386Z",
     "shell.execute_reply": "2025-05-16T19:02:29.450835Z"
    }
   },
   "outputs": [],
   "source": [
    "#\n",
    "# Damage\n",
    "#\n",
    "\n",
    "# nothing to do here."
   ]
  },
  {
   "cell_type": "code",
   "execution_count": 6,
   "id": "4cf0ad7f",
   "metadata": {
    "execution": {
     "iopub.execute_input": "2025-05-16T19:02:29.453263Z",
     "iopub.status.busy": "2025-05-16T19:02:29.453059Z",
     "iopub.status.idle": "2025-05-16T19:02:29.464438Z",
     "shell.execute_reply": "2025-05-16T19:02:29.463822Z"
    },
    "lines_to_next_cell": 0
   },
   "outputs": [],
   "source": [
    "#\n",
    "# Losses\n",
    "#\n",
    "\n",
    "asmnt.loss.decision_variables = ('Cost',)\n",
    "\n",
    "loss_map = pd.DataFrame(['cmp.A'], columns=['Repair'], index=['cmp.A'])\n",
    "asmnt.loss.add_loss_map(loss_map)\n",
    "\n",
    "loss_functions = file_io.load_data(\n",
    "    'example_1/loss_functions.csv',\n",
    "    reindex=False,\n",
    "    unit_conversion_factors=asmnt.unit_conversion_factors,\n",
    ")"
   ]
  },
  {
   "cell_type": "code",
   "execution_count": 7,
   "id": "fef7d009",
   "metadata": {
    "execution": {
     "iopub.execute_input": "2025-05-16T19:02:29.466776Z",
     "iopub.status.busy": "2025-05-16T19:02:29.466376Z",
     "iopub.status.idle": "2025-05-16T19:02:29.469478Z",
     "shell.execute_reply": "2025-05-16T19:02:29.468938Z"
    },
    "lines_to_next_cell": 0,
    "nbsphinx": "hidden"
   },
   "outputs": [],
   "source": [
    "assert isinstance(loss_functions, pd.DataFrame)"
   ]
  },
  {
   "cell_type": "code",
   "execution_count": 8,
   "id": "b23a2320",
   "metadata": {
    "execution": {
     "iopub.execute_input": "2025-05-16T19:02:29.471523Z",
     "iopub.status.busy": "2025-05-16T19:02:29.471156Z",
     "iopub.status.idle": "2025-05-16T19:02:29.571527Z",
     "shell.execute_reply": "2025-05-16T19:02:29.570906Z"
    },
    "lines_to_next_cell": 0
   },
   "outputs": [],
   "source": [
    "asmnt.loss.load_model_parameters([loss_functions])\n",
    "asmnt.loss.calculate()\n",
    "\n",
    "loss, _ = asmnt.loss.aggregate_losses(future=True)"
   ]
  },
  {
   "cell_type": "code",
   "execution_count": 9,
   "id": "8c67a01c",
   "metadata": {
    "execution": {
     "iopub.execute_input": "2025-05-16T19:02:29.574163Z",
     "iopub.status.busy": "2025-05-16T19:02:29.573734Z",
     "iopub.status.idle": "2025-05-16T19:02:29.577322Z",
     "shell.execute_reply": "2025-05-16T19:02:29.576643Z"
    },
    "nbsphinx": "hidden"
   },
   "outputs": [],
   "source": [
    "assert isinstance(loss, pd.DataFrame)\n",
    "\n",
    "loss_vals = loss['repair_cost'].to_numpy()"
   ]
  },
  {
   "cell_type": "code",
   "execution_count": 10,
   "id": "5b350e5a",
   "metadata": {
    "execution": {
     "iopub.execute_input": "2025-05-16T19:02:29.579532Z",
     "iopub.status.busy": "2025-05-16T19:02:29.579047Z",
     "iopub.status.idle": "2025-05-16T19:02:29.584859Z",
     "shell.execute_reply": "2025-05-16T19:02:29.584156Z"
    },
    "nbsphinx": "hidden"
   },
   "outputs": [],
   "source": [
    "# sample median should be close to 0.05\n",
    "assert np.allclose(np.median(loss_vals), 0.05, atol=1e-2)\n",
    "# dispersion should be close to 0.9\n",
    "assert np.allclose(np.log(loss_vals).std(), 0.90, atol=1e-2)"
   ]
  }
 ],
 "metadata": {
  "jupytext": {
   "cell_metadata_filter": "nbsphinx,-all",
   "main_language": "python",
   "notebook_metadata_filter": "-all",
   "text_representation": {
    "extension": ".py",
    "format_name": "percent"
   }
  },
  "language_info": {
   "codemirror_mode": {
    "name": "ipython",
    "version": 3
   },
   "file_extension": ".py",
   "mimetype": "text/x-python",
   "name": "python",
   "nbconvert_exporter": "python",
   "pygments_lexer": "ipython3",
   "version": "3.10.17"
  }
 },
 "nbformat": 4,
 "nbformat_minor": 5
}
