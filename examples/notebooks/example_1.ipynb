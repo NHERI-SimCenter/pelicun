{
 "cells": [
  {
   "cell_type": "markdown",
   "id": "23bd313a",
   "metadata": {},
   "source": [
    "# Example 1: Simple loss function."
   ]
  },
  {
   "cell_type": "markdown",
   "id": "e9e5063b",
   "metadata": {
    "cell_marker": "\"\"\""
   },
   "source": [
    "In this example, a single loss function is defined as a 1:1 mapping of the input EDP.\n",
    "This means that the resulting loss distribution will be the same as the EDP distribution, allowing us to test and confirm that this is what happens."
   ]
  },
  {
   "cell_type": "code",
   "execution_count": 1,
   "id": "4fa1121b",
   "metadata": {
    "execution": {
     "iopub.execute_input": "2025-05-16T18:40:26.318196Z",
     "iopub.status.busy": "2025-05-16T18:40:26.318003Z",
     "iopub.status.idle": "2025-05-16T18:40:26.948297Z",
     "shell.execute_reply": "2025-05-16T18:40:26.947557Z"
    }
   },
   "outputs": [],
   "source": [
    "from __future__ import annotations\n",
    "\n",
    "import numpy as np\n",
    "import pandas as pd\n",
    "\n",
    "from pelicun import assessment, file_io"
   ]
  },
  {
   "cell_type": "code",
   "execution_count": 2,
   "id": "72e7c4dd",
   "metadata": {
    "execution": {
     "iopub.execute_input": "2025-05-16T18:40:26.951398Z",
     "iopub.status.busy": "2025-05-16T18:40:26.950798Z",
     "iopub.status.idle": "2025-05-16T18:40:26.954362Z",
     "shell.execute_reply": "2025-05-16T18:40:26.953654Z"
    }
   },
   "outputs": [],
   "source": [
    "sample_size = 100000"
   ]
  },
  {
   "cell_type": "code",
   "execution_count": 3,
   "id": "f4d7c8bf",
   "metadata": {
    "execution": {
     "iopub.execute_input": "2025-05-16T18:40:26.957127Z",
     "iopub.status.busy": "2025-05-16T18:40:26.956788Z",
     "iopub.status.idle": "2025-05-16T18:40:26.961617Z",
     "shell.execute_reply": "2025-05-16T18:40:26.960957Z"
    }
   },
   "outputs": [],
   "source": [
    "# initialize a pelicun assessment\n",
    "asmnt = assessment.Assessment({'PrintLog': False, 'Seed': 42})"
   ]
  },
  {
   "cell_type": "code",
   "execution_count": 4,
   "id": "841c7eb8",
   "metadata": {
    "execution": {
     "iopub.execute_input": "2025-05-16T18:40:26.964014Z",
     "iopub.status.busy": "2025-05-16T18:40:26.963640Z",
     "iopub.status.idle": "2025-05-16T18:40:27.042250Z",
     "shell.execute_reply": "2025-05-16T18:40:27.041531Z"
    }
   },
   "outputs": [],
   "source": [
    "\n",
    "#\n",
    "# Demands\n",
    "#\n",
    "\n",
    "demands = pd.DataFrame(\n",
    "    {\n",
    "        'Theta_0': [0.50],\n",
    "        'Theta_1': [0.90],\n",
    "        'Family': ['lognormal'],\n",
    "        'Units': ['mps2'],\n",
    "    },\n",
    "    index=pd.MultiIndex.from_tuples(\n",
    "        [\n",
    "            ('PFA', '0', '1'),\n",
    "        ],\n",
    "    ),\n",
    ")\n",
    "\n",
    "asmnt.demand.load_model({'marginals': demands})\n",
    "\n",
    "asmnt.demand.generate_sample({'SampleSize': sample_size})\n",
    "\n",
    "#\n",
    "# Asset\n",
    "#\n",
    "\n",
    "asmnt.stories = 1\n",
    "\n",
    "cmp_marginals = pd.read_csv('example_1/CMP_marginals.csv', index_col=0)\n",
    "cmp_marginals['Blocks'] = cmp_marginals['Blocks']\n",
    "asmnt.asset.load_cmp_model({'marginals': cmp_marginals})\n",
    "\n",
    "asmnt.asset.generate_cmp_sample(sample_size)"
   ]
  },
  {
   "cell_type": "code",
   "execution_count": 5,
   "id": "a7e7defa",
   "metadata": {
    "execution": {
     "iopub.execute_input": "2025-05-16T18:40:27.044671Z",
     "iopub.status.busy": "2025-05-16T18:40:27.044456Z",
     "iopub.status.idle": "2025-05-16T18:40:27.047627Z",
     "shell.execute_reply": "2025-05-16T18:40:27.046913Z"
    }
   },
   "outputs": [],
   "source": [
    "#\n",
    "# Damage\n",
    "#\n",
    "\n",
    "# nothing to do here."
   ]
  },
  {
   "cell_type": "code",
   "execution_count": 6,
   "id": "5850d229",
   "metadata": {
    "execution": {
     "iopub.execute_input": "2025-05-16T18:40:27.049633Z",
     "iopub.status.busy": "2025-05-16T18:40:27.049394Z",
     "iopub.status.idle": "2025-05-16T18:40:27.060033Z",
     "shell.execute_reply": "2025-05-16T18:40:27.059380Z"
    },
    "lines_to_next_cell": 0
   },
   "outputs": [],
   "source": [
    "#\n",
    "# Losses\n",
    "#\n",
    "\n",
    "asmnt.loss.decision_variables = ('Cost',)\n",
    "\n",
    "loss_map = pd.DataFrame(['cmp.A'], columns=['Repair'], index=['cmp.A'])\n",
    "asmnt.loss.add_loss_map(loss_map)\n",
    "\n",
    "loss_functions = file_io.load_data(\n",
    "    'example_1/loss_functions.csv',\n",
    "    reindex=False,\n",
    "    unit_conversion_factors=asmnt.unit_conversion_factors,\n",
    ")"
   ]
  },
  {
   "cell_type": "code",
   "execution_count": 7,
   "id": "e4e02f0c",
   "metadata": {
    "execution": {
     "iopub.execute_input": "2025-05-16T18:40:27.062124Z",
     "iopub.status.busy": "2025-05-16T18:40:27.061735Z",
     "iopub.status.idle": "2025-05-16T18:40:27.064732Z",
     "shell.execute_reply": "2025-05-16T18:40:27.064179Z"
    },
    "lines_to_next_cell": 0,
    "nbsphinx": "hidden"
   },
   "outputs": [],
   "source": [
    "assert isinstance(loss_functions, pd.DataFrame)"
   ]
  },
  {
   "cell_type": "code",
   "execution_count": 8,
   "id": "73941d2a",
   "metadata": {
    "execution": {
     "iopub.execute_input": "2025-05-16T18:40:27.066459Z",
     "iopub.status.busy": "2025-05-16T18:40:27.066246Z",
     "iopub.status.idle": "2025-05-16T18:40:27.158903Z",
     "shell.execute_reply": "2025-05-16T18:40:27.158291Z"
    },
    "lines_to_next_cell": 0
   },
   "outputs": [],
   "source": [
    "asmnt.loss.load_model_parameters([loss_functions])\n",
    "asmnt.loss.calculate()\n",
    "\n",
    "loss, _ = asmnt.loss.aggregate_losses(future=True)"
   ]
  },
  {
   "cell_type": "code",
   "execution_count": 9,
   "id": "77477418",
   "metadata": {
    "execution": {
     "iopub.execute_input": "2025-05-16T18:40:27.161155Z",
     "iopub.status.busy": "2025-05-16T18:40:27.160942Z",
     "iopub.status.idle": "2025-05-16T18:40:27.164207Z",
     "shell.execute_reply": "2025-05-16T18:40:27.163674Z"
    },
    "nbsphinx": "hidden"
   },
   "outputs": [],
   "source": [
    "assert isinstance(loss, pd.DataFrame)\n",
    "\n",
    "loss_vals = loss['repair_cost'].to_numpy()"
   ]
  },
  {
   "cell_type": "code",
   "execution_count": 10,
   "id": "3f709d4b",
   "metadata": {
    "execution": {
     "iopub.execute_input": "2025-05-16T18:40:27.166204Z",
     "iopub.status.busy": "2025-05-16T18:40:27.165827Z",
     "iopub.status.idle": "2025-05-16T18:40:27.170988Z",
     "shell.execute_reply": "2025-05-16T18:40:27.170480Z"
    },
    "nbsphinx": "hidden"
   },
   "outputs": [],
   "source": [
    "# sample median should be close to 0.05\n",
    "assert np.allclose(np.median(loss_vals), 0.05, atol=1e-2)\n",
    "# dispersion should be close to 0.9\n",
    "assert np.allclose(np.log(loss_vals).std(), 0.90, atol=1e-2)"
   ]
  }
 ],
 "metadata": {
  "jupytext": {
   "cell_metadata_filter": "nbsphinx,-all",
   "main_language": "python",
   "notebook_metadata_filter": "-all",
   "text_representation": {
    "extension": ".py",
    "format_name": "percent"
   }
  },
  "language_info": {
   "codemirror_mode": {
    "name": "ipython",
    "version": 3
   },
   "file_extension": ".py",
   "mimetype": "text/x-python",
   "name": "python",
   "nbconvert_exporter": "python",
   "pygments_lexer": "ipython3",
   "version": "3.10.17"
  }
 },
 "nbformat": 4,
 "nbformat_minor": 5
}
