{
 "cells": [
  {
   "cell_type": "markdown",
   "id": "33a7570c",
   "metadata": {},
   "source": [
    "# Example 1: Simple loss function."
   ]
  },
  {
   "cell_type": "markdown",
   "id": "61b4ccf7",
   "metadata": {
    "cell_marker": "\"\"\""
   },
   "source": [
    "In this example, a single loss function is defined as a 1:1 mapping of the input EDP.\n",
    "This means that the resulting loss distribution will be the same as the EDP distribution, allowing us to test and confirm that this is what happens."
   ]
  },
  {
   "cell_type": "code",
   "execution_count": 1,
   "id": "e69c094a",
   "metadata": {
    "execution": {
     "iopub.execute_input": "2025-08-25T19:09:52.942405Z",
     "iopub.status.busy": "2025-08-25T19:09:52.942227Z",
     "iopub.status.idle": "2025-08-25T19:09:53.610624Z",
     "shell.execute_reply": "2025-08-25T19:09:53.610018Z"
    }
   },
   "outputs": [],
   "source": [
    "from __future__ import annotations\n",
    "\n",
    "import numpy as np\n",
    "import pandas as pd\n",
    "\n",
    "from pelicun import assessment, file_io"
   ]
  },
  {
   "cell_type": "code",
   "execution_count": 2,
   "id": "6634489d",
   "metadata": {
    "execution": {
     "iopub.execute_input": "2025-08-25T19:09:53.612907Z",
     "iopub.status.busy": "2025-08-25T19:09:53.612622Z",
     "iopub.status.idle": "2025-08-25T19:09:53.615617Z",
     "shell.execute_reply": "2025-08-25T19:09:53.615075Z"
    }
   },
   "outputs": [],
   "source": [
    "sample_size = 100000"
   ]
  },
  {
   "cell_type": "code",
   "execution_count": 3,
   "id": "7d2cbc4c",
   "metadata": {
    "execution": {
     "iopub.execute_input": "2025-08-25T19:09:53.617432Z",
     "iopub.status.busy": "2025-08-25T19:09:53.617232Z",
     "iopub.status.idle": "2025-08-25T19:09:53.621508Z",
     "shell.execute_reply": "2025-08-25T19:09:53.620832Z"
    }
   },
   "outputs": [],
   "source": [
    "# initialize a pelicun assessment\n",
    "asmnt = assessment.Assessment({'PrintLog': False, 'Seed': 42})"
   ]
  },
  {
   "cell_type": "code",
   "execution_count": 4,
   "id": "f34ff02e",
   "metadata": {
    "execution": {
     "iopub.execute_input": "2025-08-25T19:09:53.623381Z",
     "iopub.status.busy": "2025-08-25T19:09:53.623186Z",
     "iopub.status.idle": "2025-08-25T19:09:53.750511Z",
     "shell.execute_reply": "2025-08-25T19:09:53.749725Z"
    }
   },
   "outputs": [],
   "source": [
    "\n",
    "#\n",
    "# Demands\n",
    "#\n",
    "\n",
    "demands = pd.DataFrame(\n",
    "    {\n",
    "        'Theta_0': [0.50],\n",
    "        'Theta_1': [0.90],\n",
    "        'Family': ['lognormal'],\n",
    "        'Units': ['mps2'],\n",
    "    },\n",
    "    index=pd.MultiIndex.from_tuples(\n",
    "        [\n",
    "            ('PFA', '0', '1'),\n",
    "        ],\n",
    "    ),\n",
    ")\n",
    "\n",
    "asmnt.demand.load_model({'marginals': demands})\n",
    "\n",
    "asmnt.demand.generate_sample({'SampleSize': sample_size})\n",
    "\n",
    "#\n",
    "# Asset\n",
    "#\n",
    "\n",
    "asmnt.stories = 1\n",
    "\n",
    "cmp_marginals = pd.read_csv('example_1/CMP_marginals.csv', index_col=0)\n",
    "cmp_marginals['Blocks'] = cmp_marginals['Blocks']\n",
    "asmnt.asset.load_cmp_model({'marginals': cmp_marginals})\n",
    "\n",
    "asmnt.asset.generate_cmp_sample(sample_size)"
   ]
  },
  {
   "cell_type": "code",
   "execution_count": 5,
   "id": "3aee0f9c",
   "metadata": {
    "execution": {
     "iopub.execute_input": "2025-08-25T19:09:53.752658Z",
     "iopub.status.busy": "2025-08-25T19:09:53.752465Z",
     "iopub.status.idle": "2025-08-25T19:09:53.755038Z",
     "shell.execute_reply": "2025-08-25T19:09:53.754478Z"
    }
   },
   "outputs": [],
   "source": [
    "#\n",
    "# Damage\n",
    "#\n",
    "\n",
    "# nothing to do here."
   ]
  },
  {
   "cell_type": "code",
   "execution_count": 6,
   "id": "65289863",
   "metadata": {
    "execution": {
     "iopub.execute_input": "2025-08-25T19:09:53.756766Z",
     "iopub.status.busy": "2025-08-25T19:09:53.756584Z",
     "iopub.status.idle": "2025-08-25T19:09:53.767089Z",
     "shell.execute_reply": "2025-08-25T19:09:53.766529Z"
    },
    "lines_to_next_cell": 0
   },
   "outputs": [],
   "source": [
    "#\n",
    "# Losses\n",
    "#\n",
    "\n",
    "asmnt.loss.decision_variables = ('Cost',)\n",
    "\n",
    "loss_map = pd.DataFrame(['cmp.A'], columns=['Repair'], index=['cmp.A'])\n",
    "asmnt.loss.add_loss_map(loss_map)\n",
    "\n",
    "loss_functions = file_io.load_data(\n",
    "    'example_1/loss_functions.csv',\n",
    "    reindex=False,\n",
    "    unit_conversion_factors=asmnt.unit_conversion_factors,\n",
    ")"
   ]
  },
  {
   "cell_type": "code",
   "execution_count": 7,
   "id": "3c2889f3",
   "metadata": {
    "execution": {
     "iopub.execute_input": "2025-08-25T19:09:53.768933Z",
     "iopub.status.busy": "2025-08-25T19:09:53.768712Z",
     "iopub.status.idle": "2025-08-25T19:09:53.771698Z",
     "shell.execute_reply": "2025-08-25T19:09:53.771153Z"
    },
    "lines_to_next_cell": 0,
    "nbsphinx": "hidden"
   },
   "outputs": [],
   "source": [
    "assert isinstance(loss_functions, pd.DataFrame)"
   ]
  },
  {
   "cell_type": "code",
   "execution_count": 8,
   "id": "7ccf7461",
   "metadata": {
    "execution": {
     "iopub.execute_input": "2025-08-25T19:09:53.773412Z",
     "iopub.status.busy": "2025-08-25T19:09:53.773219Z",
     "iopub.status.idle": "2025-08-25T19:09:53.869356Z",
     "shell.execute_reply": "2025-08-25T19:09:53.868709Z"
    },
    "lines_to_next_cell": 0
   },
   "outputs": [],
   "source": [
    "asmnt.loss.load_model_parameters([loss_functions])\n",
    "asmnt.loss.calculate()\n",
    "\n",
    "loss, _ = asmnt.loss.aggregate_losses(future=True)"
   ]
  },
  {
   "cell_type": "code",
   "execution_count": 9,
   "id": "b9d61552",
   "metadata": {
    "execution": {
     "iopub.execute_input": "2025-08-25T19:09:53.871533Z",
     "iopub.status.busy": "2025-08-25T19:09:53.871326Z",
     "iopub.status.idle": "2025-08-25T19:09:53.874689Z",
     "shell.execute_reply": "2025-08-25T19:09:53.874025Z"
    },
    "nbsphinx": "hidden"
   },
   "outputs": [],
   "source": [
    "assert isinstance(loss, pd.DataFrame)\n",
    "\n",
    "loss_vals = loss['repair_cost'].to_numpy()"
   ]
  },
  {
   "cell_type": "code",
   "execution_count": 10,
   "id": "066e168a",
   "metadata": {
    "execution": {
     "iopub.execute_input": "2025-08-25T19:09:53.876463Z",
     "iopub.status.busy": "2025-08-25T19:09:53.876267Z",
     "iopub.status.idle": "2025-08-25T19:09:53.881663Z",
     "shell.execute_reply": "2025-08-25T19:09:53.880971Z"
    },
    "nbsphinx": "hidden"
   },
   "outputs": [],
   "source": [
    "# sample median should be close to 0.05\n",
    "assert np.allclose(np.median(loss_vals), 0.05, atol=1e-2)\n",
    "# dispersion should be close to 0.9\n",
    "assert np.allclose(np.log(loss_vals).std(), 0.90, atol=1e-2)"
   ]
  }
 ],
 "metadata": {
  "jupytext": {
   "cell_metadata_filter": "nbsphinx,-all",
   "main_language": "python",
   "notebook_metadata_filter": "-all",
   "text_representation": {
    "extension": ".py",
    "format_name": "percent"
   }
  },
  "language_info": {
   "codemirror_mode": {
    "name": "ipython",
    "version": 3
   },
   "file_extension": ".py",
   "mimetype": "text/x-python",
   "name": "python",
   "nbconvert_exporter": "python",
   "pygments_lexer": "ipython3",
   "version": "3.10.18"
  }
 },
 "nbformat": 4,
 "nbformat_minor": 5
}
