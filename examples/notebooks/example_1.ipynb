{
 "cells": [
  {
   "cell_type": "markdown",
   "id": "85558fa5",
   "metadata": {},
   "source": [
    "# Example 1: Simple loss function."
   ]
  },
  {
   "cell_type": "markdown",
   "id": "b38324bf",
   "metadata": {
    "cell_marker": "\"\"\""
   },
   "source": [
    "In this example, a single loss function is defined as a 1:1 mapping of the input EDP.\n",
    "This means that the resulting loss distribution will be the same as the EDP distribution, allowing us to test and confirm that this is what happens."
   ]
  },
  {
   "cell_type": "code",
   "execution_count": 1,
   "id": "29c3b76d",
   "metadata": {
    "execution": {
     "iopub.execute_input": "2025-09-15T20:26:21.279136Z",
     "iopub.status.busy": "2025-09-15T20:26:21.278928Z",
     "iopub.status.idle": "2025-09-15T20:26:21.944080Z",
     "shell.execute_reply": "2025-09-15T20:26:21.943468Z"
    }
   },
   "outputs": [
    {
     "name": "stderr",
     "output_type": "stream",
     "text": [
      "/home/runner/work/pelicun/pelicun/pelicun/__init__.py:61: PelicunWarning: DLML data update available. Current version: None, Latest version: v2.1.0. Update with: pelicun dlml update\n",
      "  check_dlml_data()\n"
     ]
    },
    {
     "name": "stdout",
     "output_type": "stream",
     "text": [
      "DLML data update available. Current version: None, Latest version: v2.1.0. Update with: pelicun dlml update"
     ]
    },
    {
     "name": "stdout",
     "output_type": "stream",
     "text": [
      "\n"
     ]
    }
   ],
   "source": [
    "from __future__ import annotations\n",
    "\n",
    "import numpy as np\n",
    "import pandas as pd\n",
    "\n",
    "from pelicun import assessment, file_io"
   ]
  },
  {
   "cell_type": "code",
   "execution_count": 2,
   "id": "772d6543",
   "metadata": {
    "execution": {
     "iopub.execute_input": "2025-09-15T20:26:21.946058Z",
     "iopub.status.busy": "2025-09-15T20:26:21.945798Z",
     "iopub.status.idle": "2025-09-15T20:26:21.948572Z",
     "shell.execute_reply": "2025-09-15T20:26:21.948031Z"
    }
   },
   "outputs": [],
   "source": [
    "sample_size = 100000"
   ]
  },
  {
   "cell_type": "code",
   "execution_count": 3,
   "id": "deedf0b7",
   "metadata": {
    "execution": {
     "iopub.execute_input": "2025-09-15T20:26:21.950348Z",
     "iopub.status.busy": "2025-09-15T20:26:21.950161Z",
     "iopub.status.idle": "2025-09-15T20:26:21.954403Z",
     "shell.execute_reply": "2025-09-15T20:26:21.953702Z"
    }
   },
   "outputs": [],
   "source": [
    "# initialize a pelicun assessment\n",
    "asmnt = assessment.Assessment({'PrintLog': False, 'Seed': 42})"
   ]
  },
  {
   "cell_type": "code",
   "execution_count": 4,
   "id": "fb8d4698",
   "metadata": {
    "execution": {
     "iopub.execute_input": "2025-09-15T20:26:21.956390Z",
     "iopub.status.busy": "2025-09-15T20:26:21.956207Z",
     "iopub.status.idle": "2025-09-15T20:26:22.038441Z",
     "shell.execute_reply": "2025-09-15T20:26:22.037844Z"
    }
   },
   "outputs": [],
   "source": [
    "\n",
    "#\n",
    "# Demands\n",
    "#\n",
    "\n",
    "demands = pd.DataFrame(\n",
    "    {\n",
    "        'Theta_0': [0.50],\n",
    "        'Theta_1': [0.90],\n",
    "        'Family': ['lognormal'],\n",
    "        'Units': ['mps2'],\n",
    "    },\n",
    "    index=pd.MultiIndex.from_tuples(\n",
    "        [\n",
    "            ('PFA', '0', '1'),\n",
    "        ],\n",
    "    ),\n",
    ")\n",
    "\n",
    "asmnt.demand.load_model({'marginals': demands})\n",
    "\n",
    "asmnt.demand.generate_sample({'SampleSize': sample_size})\n",
    "\n",
    "#\n",
    "# Asset\n",
    "#\n",
    "\n",
    "asmnt.stories = 1\n",
    "\n",
    "cmp_marginals = pd.read_csv('example_1/CMP_marginals.csv', index_col=0)\n",
    "cmp_marginals['Blocks'] = cmp_marginals['Blocks']\n",
    "asmnt.asset.load_cmp_model({'marginals': cmp_marginals})\n",
    "\n",
    "asmnt.asset.generate_cmp_sample(sample_size)"
   ]
  },
  {
   "cell_type": "code",
   "execution_count": 5,
   "id": "91c6113f",
   "metadata": {
    "execution": {
     "iopub.execute_input": "2025-09-15T20:26:22.040622Z",
     "iopub.status.busy": "2025-09-15T20:26:22.040420Z",
     "iopub.status.idle": "2025-09-15T20:26:22.043006Z",
     "shell.execute_reply": "2025-09-15T20:26:22.042434Z"
    }
   },
   "outputs": [],
   "source": [
    "#\n",
    "# Damage\n",
    "#\n",
    "\n",
    "# nothing to do here."
   ]
  },
  {
   "cell_type": "code",
   "execution_count": 6,
   "id": "5e8ef3e0",
   "metadata": {
    "execution": {
     "iopub.execute_input": "2025-09-15T20:26:22.044952Z",
     "iopub.status.busy": "2025-09-15T20:26:22.044662Z",
     "iopub.status.idle": "2025-09-15T20:26:22.055793Z",
     "shell.execute_reply": "2025-09-15T20:26:22.055039Z"
    },
    "lines_to_next_cell": 0
   },
   "outputs": [],
   "source": [
    "#\n",
    "# Losses\n",
    "#\n",
    "\n",
    "asmnt.loss.decision_variables = ('Cost',)\n",
    "\n",
    "loss_map = pd.DataFrame(['cmp.A'], columns=['Repair'], index=['cmp.A'])\n",
    "asmnt.loss.add_loss_map(loss_map)\n",
    "\n",
    "loss_functions = file_io.load_data(\n",
    "    'example_1/loss_functions.csv',\n",
    "    reindex=False,\n",
    "    unit_conversion_factors=asmnt.unit_conversion_factors,\n",
    ")"
   ]
  },
  {
   "cell_type": "code",
   "execution_count": 7,
   "id": "d1095c8b",
   "metadata": {
    "execution": {
     "iopub.execute_input": "2025-09-15T20:26:22.057880Z",
     "iopub.status.busy": "2025-09-15T20:26:22.057657Z",
     "iopub.status.idle": "2025-09-15T20:26:22.060823Z",
     "shell.execute_reply": "2025-09-15T20:26:22.060130Z"
    },
    "lines_to_next_cell": 0,
    "nbsphinx": "hidden"
   },
   "outputs": [],
   "source": [
    "assert isinstance(loss_functions, pd.DataFrame)"
   ]
  },
  {
   "cell_type": "code",
   "execution_count": 8,
   "id": "3c6650de",
   "metadata": {
    "execution": {
     "iopub.execute_input": "2025-09-15T20:26:22.062829Z",
     "iopub.status.busy": "2025-09-15T20:26:22.062624Z",
     "iopub.status.idle": "2025-09-15T20:26:22.158922Z",
     "shell.execute_reply": "2025-09-15T20:26:22.158255Z"
    },
    "lines_to_next_cell": 0
   },
   "outputs": [],
   "source": [
    "asmnt.loss.load_model_parameters([loss_functions])\n",
    "asmnt.loss.calculate()\n",
    "\n",
    "loss, _ = asmnt.loss.aggregate_losses(future=True)"
   ]
  },
  {
   "cell_type": "code",
   "execution_count": 9,
   "id": "355f1691",
   "metadata": {
    "execution": {
     "iopub.execute_input": "2025-09-15T20:26:22.161148Z",
     "iopub.status.busy": "2025-09-15T20:26:22.160940Z",
     "iopub.status.idle": "2025-09-15T20:26:22.164093Z",
     "shell.execute_reply": "2025-09-15T20:26:22.163517Z"
    },
    "nbsphinx": "hidden"
   },
   "outputs": [],
   "source": [
    "assert isinstance(loss, pd.DataFrame)\n",
    "\n",
    "loss_vals = loss['repair_cost'].to_numpy()"
   ]
  },
  {
   "cell_type": "code",
   "execution_count": 10,
   "id": "d1409cd6",
   "metadata": {
    "execution": {
     "iopub.execute_input": "2025-09-15T20:26:22.165906Z",
     "iopub.status.busy": "2025-09-15T20:26:22.165690Z",
     "iopub.status.idle": "2025-09-15T20:26:22.170832Z",
     "shell.execute_reply": "2025-09-15T20:26:22.170264Z"
    },
    "nbsphinx": "hidden"
   },
   "outputs": [],
   "source": [
    "# sample median should be close to 0.05\n",
    "assert np.allclose(np.median(loss_vals), 0.05, atol=1e-2)\n",
    "# dispersion should be close to 0.9\n",
    "assert np.allclose(np.log(loss_vals).std(), 0.90, atol=1e-2)"
   ]
  }
 ],
 "metadata": {
  "jupytext": {
   "cell_metadata_filter": "nbsphinx,-all",
   "main_language": "python",
   "notebook_metadata_filter": "-all",
   "text_representation": {
    "extension": ".py",
    "format_name": "percent"
   }
  },
  "language_info": {
   "codemirror_mode": {
    "name": "ipython",
    "version": 3
   },
   "file_extension": ".py",
   "mimetype": "text/x-python",
   "name": "python",
   "nbconvert_exporter": "python",
   "pygments_lexer": "ipython3",
   "version": "3.10.18"
  }
 },
 "nbformat": 4,
 "nbformat_minor": 5
}
