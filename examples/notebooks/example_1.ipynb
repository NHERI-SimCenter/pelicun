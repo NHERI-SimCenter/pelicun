{
 "cells": [
  {
   "cell_type": "markdown",
   "id": "5a8f244e",
   "metadata": {},
   "source": [
    "# Example 1: Simple loss function."
   ]
  },
  {
   "cell_type": "markdown",
   "id": "14ea1d6f",
   "metadata": {
    "cell_marker": "\"\"\""
   },
   "source": [
    "In this example, a single loss function is defined as a 1:1 mapping of the input EDP.\n",
    "This means that the resulting loss distribution will be the same as the EDP distribution, allowing us to test and confirm that this is what happens."
   ]
  },
  {
   "cell_type": "code",
   "execution_count": 1,
   "id": "6767f501",
   "metadata": {
    "execution": {
     "iopub.execute_input": "2025-09-23T22:52:32.803517Z",
     "iopub.status.busy": "2025-09-23T22:52:32.803346Z",
     "iopub.status.idle": "2025-09-23T22:52:33.446694Z",
     "shell.execute_reply": "2025-09-23T22:52:33.446131Z"
    }
   },
   "outputs": [
    {
     "name": "stderr",
     "output_type": "stream",
     "text": [
      "/home/runner/work/pelicun/pelicun/pelicun/__init__.py:61: PelicunWarning: DLML data update available. Current version: None, Latest version: v2.1.0. Update with: pelicun dlml update\n",
      "  check_dlml_data()\n"
     ]
    },
    {
     "name": "stdout",
     "output_type": "stream",
     "text": [
      "DLML data update available. Current version: None, Latest version: v2.1.0. Update with: pelicun dlml update"
     ]
    },
    {
     "name": "stdout",
     "output_type": "stream",
     "text": [
      "\n"
     ]
    }
   ],
   "source": [
    "from __future__ import annotations\n",
    "\n",
    "import numpy as np\n",
    "import pandas as pd\n",
    "\n",
    "from pelicun import assessment, file_io"
   ]
  },
  {
   "cell_type": "code",
   "execution_count": 2,
   "id": "d2b2ace4",
   "metadata": {
    "execution": {
     "iopub.execute_input": "2025-09-23T22:52:33.448657Z",
     "iopub.status.busy": "2025-09-23T22:52:33.448410Z",
     "iopub.status.idle": "2025-09-23T22:52:33.451142Z",
     "shell.execute_reply": "2025-09-23T22:52:33.450610Z"
    }
   },
   "outputs": [],
   "source": [
    "sample_size = 100000"
   ]
  },
  {
   "cell_type": "code",
   "execution_count": 3,
   "id": "b0a11394",
   "metadata": {
    "execution": {
     "iopub.execute_input": "2025-09-23T22:52:33.452872Z",
     "iopub.status.busy": "2025-09-23T22:52:33.452689Z",
     "iopub.status.idle": "2025-09-23T22:52:33.456490Z",
     "shell.execute_reply": "2025-09-23T22:52:33.455993Z"
    }
   },
   "outputs": [],
   "source": [
    "# initialize a pelicun assessment\n",
    "asmnt = assessment.Assessment({'PrintLog': False, 'Seed': 42})"
   ]
  },
  {
   "cell_type": "code",
   "execution_count": 4,
   "id": "efce3c13",
   "metadata": {
    "execution": {
     "iopub.execute_input": "2025-09-23T22:52:33.458195Z",
     "iopub.status.busy": "2025-09-23T22:52:33.458017Z",
     "iopub.status.idle": "2025-09-23T22:52:33.536810Z",
     "shell.execute_reply": "2025-09-23T22:52:33.535995Z"
    }
   },
   "outputs": [],
   "source": [
    "\n",
    "#\n",
    "# Demands\n",
    "#\n",
    "\n",
    "demands = pd.DataFrame(\n",
    "    {\n",
    "        'Theta_0': [0.50],\n",
    "        'Theta_1': [0.90],\n",
    "        'Family': ['lognormal'],\n",
    "        'Units': ['mps2'],\n",
    "    },\n",
    "    index=pd.MultiIndex.from_tuples(\n",
    "        [\n",
    "            ('PFA', '0', '1'),\n",
    "        ],\n",
    "    ),\n",
    ")\n",
    "\n",
    "asmnt.demand.load_model({'marginals': demands})\n",
    "\n",
    "asmnt.demand.generate_sample({'SampleSize': sample_size})\n",
    "\n",
    "#\n",
    "# Asset\n",
    "#\n",
    "\n",
    "asmnt.stories = 1\n",
    "\n",
    "cmp_marginals = pd.read_csv('example_1/CMP_marginals.csv', index_col=0)\n",
    "cmp_marginals['Blocks'] = cmp_marginals['Blocks']\n",
    "asmnt.asset.load_cmp_model({'marginals': cmp_marginals})\n",
    "\n",
    "asmnt.asset.generate_cmp_sample(sample_size)"
   ]
  },
  {
   "cell_type": "code",
   "execution_count": 5,
   "id": "9743dc3e",
   "metadata": {
    "execution": {
     "iopub.execute_input": "2025-09-23T22:52:33.538826Z",
     "iopub.status.busy": "2025-09-23T22:52:33.538626Z",
     "iopub.status.idle": "2025-09-23T22:52:33.541361Z",
     "shell.execute_reply": "2025-09-23T22:52:33.540794Z"
    }
   },
   "outputs": [],
   "source": [
    "#\n",
    "# Damage\n",
    "#\n",
    "\n",
    "# nothing to do here."
   ]
  },
  {
   "cell_type": "code",
   "execution_count": 6,
   "id": "1ab09a95",
   "metadata": {
    "execution": {
     "iopub.execute_input": "2025-09-23T22:52:33.543081Z",
     "iopub.status.busy": "2025-09-23T22:52:33.542882Z",
     "iopub.status.idle": "2025-09-23T22:52:33.552684Z",
     "shell.execute_reply": "2025-09-23T22:52:33.552165Z"
    },
    "lines_to_next_cell": 0
   },
   "outputs": [],
   "source": [
    "#\n",
    "# Losses\n",
    "#\n",
    "\n",
    "asmnt.loss.decision_variables = ('Cost',)\n",
    "\n",
    "loss_map = pd.DataFrame(['cmp.A'], columns=['Repair'], index=['cmp.A'])\n",
    "asmnt.loss.add_loss_map(loss_map)\n",
    "\n",
    "loss_functions = file_io.load_data(\n",
    "    'example_1/loss_functions.csv',\n",
    "    reindex=False,\n",
    "    unit_conversion_factors=asmnt.unit_conversion_factors,\n",
    ")"
   ]
  },
  {
   "cell_type": "code",
   "execution_count": 7,
   "id": "83aacab4",
   "metadata": {
    "execution": {
     "iopub.execute_input": "2025-09-23T22:52:33.554477Z",
     "iopub.status.busy": "2025-09-23T22:52:33.554298Z",
     "iopub.status.idle": "2025-09-23T22:52:33.556994Z",
     "shell.execute_reply": "2025-09-23T22:52:33.556431Z"
    },
    "lines_to_next_cell": 0,
    "nbsphinx": "hidden"
   },
   "outputs": [],
   "source": [
    "assert isinstance(loss_functions, pd.DataFrame)"
   ]
  },
  {
   "cell_type": "code",
   "execution_count": 8,
   "id": "7cb975c2",
   "metadata": {
    "execution": {
     "iopub.execute_input": "2025-09-23T22:52:33.558640Z",
     "iopub.status.busy": "2025-09-23T22:52:33.558453Z",
     "iopub.status.idle": "2025-09-23T22:52:33.652609Z",
     "shell.execute_reply": "2025-09-23T22:52:33.651888Z"
    },
    "lines_to_next_cell": 0
   },
   "outputs": [],
   "source": [
    "asmnt.loss.load_model_parameters([loss_functions])\n",
    "asmnt.loss.calculate()\n",
    "\n",
    "loss, _ = asmnt.loss.aggregate_losses(future=True)"
   ]
  },
  {
   "cell_type": "code",
   "execution_count": 9,
   "id": "605b14da",
   "metadata": {
    "execution": {
     "iopub.execute_input": "2025-09-23T22:52:33.654772Z",
     "iopub.status.busy": "2025-09-23T22:52:33.654568Z",
     "iopub.status.idle": "2025-09-23T22:52:33.657851Z",
     "shell.execute_reply": "2025-09-23T22:52:33.657210Z"
    },
    "nbsphinx": "hidden"
   },
   "outputs": [],
   "source": [
    "assert isinstance(loss, pd.DataFrame)\n",
    "\n",
    "loss_vals = loss['repair_cost'].to_numpy()"
   ]
  },
  {
   "cell_type": "code",
   "execution_count": 10,
   "id": "915b1686",
   "metadata": {
    "execution": {
     "iopub.execute_input": "2025-09-23T22:52:33.659574Z",
     "iopub.status.busy": "2025-09-23T22:52:33.659389Z",
     "iopub.status.idle": "2025-09-23T22:52:33.664402Z",
     "shell.execute_reply": "2025-09-23T22:52:33.663854Z"
    },
    "nbsphinx": "hidden"
   },
   "outputs": [],
   "source": [
    "# sample median should be close to 0.05\n",
    "assert np.allclose(np.median(loss_vals), 0.05, atol=1e-2)\n",
    "# dispersion should be close to 0.9\n",
    "assert np.allclose(np.log(loss_vals).std(), 0.90, atol=1e-2)"
   ]
  }
 ],
 "metadata": {
  "jupytext": {
   "cell_metadata_filter": "nbsphinx,-all",
   "main_language": "python",
   "notebook_metadata_filter": "-all",
   "text_representation": {
    "extension": ".py",
    "format_name": "percent"
   }
  },
  "language_info": {
   "codemirror_mode": {
    "name": "ipython",
    "version": 3
   },
   "file_extension": ".py",
   "mimetype": "text/x-python",
   "name": "python",
   "nbconvert_exporter": "python",
   "pygments_lexer": "ipython3",
   "version": "3.10.18"
  }
 },
 "nbformat": 4,
 "nbformat_minor": 5
}
