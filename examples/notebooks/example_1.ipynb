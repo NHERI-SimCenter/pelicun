{
 "cells": [
  {
   "cell_type": "markdown",
   "id": "aeb6ad8b",
   "metadata": {},
   "source": [
    "# Example 1: Simple loss function."
   ]
  },
  {
   "cell_type": "markdown",
   "id": "71dbb4bf",
   "metadata": {
    "cell_marker": "\"\"\""
   },
   "source": [
    "In this example, a single loss function is defined as a 1:1 mapping of the input EDP.\n",
    "This means that the resulting loss distribution will be the same as the EDP distribution, allowing us to test and confirm that this is what happens."
   ]
  },
  {
   "cell_type": "code",
   "execution_count": 1,
   "id": "ebcd73ec",
   "metadata": {
    "execution": {
     "iopub.execute_input": "2025-09-28T07:18:37.911794Z",
     "iopub.status.busy": "2025-09-28T07:18:37.911592Z",
     "iopub.status.idle": "2025-09-28T07:18:38.591565Z",
     "shell.execute_reply": "2025-09-28T07:18:38.590788Z"
    }
   },
   "outputs": [],
   "source": [
    "from __future__ import annotations\n",
    "\n",
    "import numpy as np\n",
    "import pandas as pd\n",
    "\n",
    "from pelicun import assessment, file_io"
   ]
  },
  {
   "cell_type": "code",
   "execution_count": 2,
   "id": "9a46702e",
   "metadata": {
    "execution": {
     "iopub.execute_input": "2025-09-28T07:18:38.594031Z",
     "iopub.status.busy": "2025-09-28T07:18:38.593732Z",
     "iopub.status.idle": "2025-09-28T07:18:38.596697Z",
     "shell.execute_reply": "2025-09-28T07:18:38.596132Z"
    }
   },
   "outputs": [],
   "source": [
    "sample_size = 100000"
   ]
  },
  {
   "cell_type": "code",
   "execution_count": 3,
   "id": "244599dd",
   "metadata": {
    "execution": {
     "iopub.execute_input": "2025-09-28T07:18:38.598565Z",
     "iopub.status.busy": "2025-09-28T07:18:38.598364Z",
     "iopub.status.idle": "2025-09-28T07:18:38.602720Z",
     "shell.execute_reply": "2025-09-28T07:18:38.602005Z"
    }
   },
   "outputs": [],
   "source": [
    "# initialize a pelicun assessment\n",
    "asmnt = assessment.Assessment({'PrintLog': False, 'Seed': 42})"
   ]
  },
  {
   "cell_type": "code",
   "execution_count": 4,
   "id": "a6622943",
   "metadata": {
    "execution": {
     "iopub.execute_input": "2025-09-28T07:18:38.604871Z",
     "iopub.status.busy": "2025-09-28T07:18:38.604649Z",
     "iopub.status.idle": "2025-09-28T07:18:38.729042Z",
     "shell.execute_reply": "2025-09-28T07:18:38.728298Z"
    }
   },
   "outputs": [],
   "source": [
    "\n",
    "#\n",
    "# Demands\n",
    "#\n",
    "\n",
    "demands = pd.DataFrame(\n",
    "    {\n",
    "        'Theta_0': [0.50],\n",
    "        'Theta_1': [0.90],\n",
    "        'Family': ['lognormal'],\n",
    "        'Units': ['mps2'],\n",
    "    },\n",
    "    index=pd.MultiIndex.from_tuples(\n",
    "        [\n",
    "            ('PFA', '0', '1'),\n",
    "        ],\n",
    "    ),\n",
    ")\n",
    "\n",
    "asmnt.demand.load_model({'marginals': demands})\n",
    "\n",
    "asmnt.demand.generate_sample({'SampleSize': sample_size})\n",
    "\n",
    "#\n",
    "# Asset\n",
    "#\n",
    "\n",
    "asmnt.stories = 1\n",
    "\n",
    "cmp_marginals = pd.read_csv('example_1/CMP_marginals.csv', index_col=0)\n",
    "cmp_marginals['Blocks'] = cmp_marginals['Blocks']\n",
    "asmnt.asset.load_cmp_model({'marginals': cmp_marginals})\n",
    "\n",
    "asmnt.asset.generate_cmp_sample(sample_size)"
   ]
  },
  {
   "cell_type": "code",
   "execution_count": 5,
   "id": "b10717a4",
   "metadata": {
    "execution": {
     "iopub.execute_input": "2025-09-28T07:18:38.731616Z",
     "iopub.status.busy": "2025-09-28T07:18:38.731397Z",
     "iopub.status.idle": "2025-09-28T07:18:38.734332Z",
     "shell.execute_reply": "2025-09-28T07:18:38.733709Z"
    }
   },
   "outputs": [],
   "source": [
    "#\n",
    "# Damage\n",
    "#\n",
    "\n",
    "# nothing to do here."
   ]
  },
  {
   "cell_type": "code",
   "execution_count": 6,
   "id": "4e9d1120",
   "metadata": {
    "execution": {
     "iopub.execute_input": "2025-09-28T07:18:38.736281Z",
     "iopub.status.busy": "2025-09-28T07:18:38.736050Z",
     "iopub.status.idle": "2025-09-28T07:18:38.748694Z",
     "shell.execute_reply": "2025-09-28T07:18:38.747938Z"
    },
    "lines_to_next_cell": 0
   },
   "outputs": [],
   "source": [
    "#\n",
    "# Losses\n",
    "#\n",
    "\n",
    "asmnt.loss.decision_variables = ('Cost',)\n",
    "\n",
    "loss_map = pd.DataFrame(['cmp.A'], columns=['Repair'], index=['cmp.A'])\n",
    "asmnt.loss.add_loss_map(loss_map)\n",
    "\n",
    "loss_functions = file_io.load_data(\n",
    "    'example_1/loss_functions.csv',\n",
    "    reindex=False,\n",
    "    unit_conversion_factors=asmnt.unit_conversion_factors,\n",
    ")"
   ]
  },
  {
   "cell_type": "code",
   "execution_count": 7,
   "id": "552403f1",
   "metadata": {
    "execution": {
     "iopub.execute_input": "2025-09-28T07:18:38.750927Z",
     "iopub.status.busy": "2025-09-28T07:18:38.750705Z",
     "iopub.status.idle": "2025-09-28T07:18:38.753771Z",
     "shell.execute_reply": "2025-09-28T07:18:38.753159Z"
    },
    "lines_to_next_cell": 0,
    "nbsphinx": "hidden"
   },
   "outputs": [],
   "source": [
    "assert isinstance(loss_functions, pd.DataFrame)"
   ]
  },
  {
   "cell_type": "code",
   "execution_count": 8,
   "id": "b89aa0c8",
   "metadata": {
    "execution": {
     "iopub.execute_input": "2025-09-28T07:18:38.755663Z",
     "iopub.status.busy": "2025-09-28T07:18:38.755466Z",
     "iopub.status.idle": "2025-09-28T07:18:38.854812Z",
     "shell.execute_reply": "2025-09-28T07:18:38.854153Z"
    },
    "lines_to_next_cell": 0
   },
   "outputs": [],
   "source": [
    "asmnt.loss.load_model_parameters([loss_functions])\n",
    "asmnt.loss.calculate()\n",
    "\n",
    "loss, _ = asmnt.loss.aggregate_losses(future=True)"
   ]
  },
  {
   "cell_type": "code",
   "execution_count": 9,
   "id": "df23b1e3",
   "metadata": {
    "execution": {
     "iopub.execute_input": "2025-09-28T07:18:38.856976Z",
     "iopub.status.busy": "2025-09-28T07:18:38.856775Z",
     "iopub.status.idle": "2025-09-28T07:18:38.860051Z",
     "shell.execute_reply": "2025-09-28T07:18:38.859507Z"
    },
    "nbsphinx": "hidden"
   },
   "outputs": [],
   "source": [
    "assert isinstance(loss, pd.DataFrame)\n",
    "\n",
    "loss_vals = loss['repair_cost'].to_numpy()"
   ]
  },
  {
   "cell_type": "code",
   "execution_count": 10,
   "id": "eb76c870",
   "metadata": {
    "execution": {
     "iopub.execute_input": "2025-09-28T07:18:38.861829Z",
     "iopub.status.busy": "2025-09-28T07:18:38.861647Z",
     "iopub.status.idle": "2025-09-28T07:18:38.866711Z",
     "shell.execute_reply": "2025-09-28T07:18:38.866173Z"
    },
    "nbsphinx": "hidden"
   },
   "outputs": [],
   "source": [
    "# sample median should be close to 0.05\n",
    "assert np.allclose(np.median(loss_vals), 0.05, atol=1e-2)\n",
    "# dispersion should be close to 0.9\n",
    "assert np.allclose(np.log(loss_vals).std(), 0.90, atol=1e-2)"
   ]
  }
 ],
 "metadata": {
  "jupytext": {
   "cell_metadata_filter": "nbsphinx,-all",
   "main_language": "python",
   "notebook_metadata_filter": "-all",
   "text_representation": {
    "extension": ".py",
    "format_name": "percent"
   }
  },
  "language_info": {
   "codemirror_mode": {
    "name": "ipython",
    "version": 3
   },
   "file_extension": ".py",
   "mimetype": "text/x-python",
   "name": "python",
   "nbconvert_exporter": "python",
   "pygments_lexer": "ipython3",
   "version": "3.10.18"
  }
 },
 "nbformat": 4,
 "nbformat_minor": 5
}
