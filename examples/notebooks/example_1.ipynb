{
 "cells": [
  {
   "cell_type": "markdown",
   "id": "af8ade06",
   "metadata": {},
   "source": [
    "# Example 1: Simple loss function."
   ]
  },
  {
   "cell_type": "markdown",
   "id": "973e71db",
   "metadata": {
    "cell_marker": "\"\"\""
   },
   "source": [
    "In this example, a single loss function is defined as a 1:1 mapping of the input EDP.\n",
    "This means that the resulting loss distribution will be the same as the EDP distribution, allowing us to test and confirm that this is what happens."
   ]
  },
  {
   "cell_type": "code",
   "execution_count": 1,
   "id": "9ac58b46",
   "metadata": {
    "execution": {
     "iopub.execute_input": "2025-02-05T00:42:32.960884Z",
     "iopub.status.busy": "2025-02-05T00:42:32.960653Z",
     "iopub.status.idle": "2025-02-05T00:42:33.614259Z",
     "shell.execute_reply": "2025-02-05T00:42:33.613544Z"
    }
   },
   "outputs": [],
   "source": [
    "from __future__ import annotations\n",
    "\n",
    "import numpy as np\n",
    "import pandas as pd\n",
    "\n",
    "from pelicun import assessment, file_io"
   ]
  },
  {
   "cell_type": "code",
   "execution_count": 2,
   "id": "b2897454",
   "metadata": {
    "execution": {
     "iopub.execute_input": "2025-02-05T00:42:33.616694Z",
     "iopub.status.busy": "2025-02-05T00:42:33.616392Z",
     "iopub.status.idle": "2025-02-05T00:42:33.619686Z",
     "shell.execute_reply": "2025-02-05T00:42:33.619137Z"
    }
   },
   "outputs": [],
   "source": [
    "sample_size = 100000"
   ]
  },
  {
   "cell_type": "code",
   "execution_count": 3,
   "id": "b3cc24da",
   "metadata": {
    "execution": {
     "iopub.execute_input": "2025-02-05T00:42:33.621583Z",
     "iopub.status.busy": "2025-02-05T00:42:33.621376Z",
     "iopub.status.idle": "2025-02-05T00:42:33.625769Z",
     "shell.execute_reply": "2025-02-05T00:42:33.625258Z"
    }
   },
   "outputs": [],
   "source": [
    "# initialize a pelicun assessment\n",
    "asmnt = assessment.Assessment({'PrintLog': False, 'Seed': 42})"
   ]
  },
  {
   "cell_type": "code",
   "execution_count": 4,
   "id": "7084e300",
   "metadata": {
    "execution": {
     "iopub.execute_input": "2025-02-05T00:42:33.627834Z",
     "iopub.status.busy": "2025-02-05T00:42:33.627461Z",
     "iopub.status.idle": "2025-02-05T00:42:33.692017Z",
     "shell.execute_reply": "2025-02-05T00:42:33.691375Z"
    }
   },
   "outputs": [],
   "source": [
    "\n",
    "#\n",
    "# Demands\n",
    "#\n",
    "\n",
    "demands = pd.DataFrame(\n",
    "    {\n",
    "        'Theta_0': [0.50],\n",
    "        'Theta_1': [0.90],\n",
    "        'Family': ['lognormal'],\n",
    "        'Units': ['mps2'],\n",
    "    },\n",
    "    index=pd.MultiIndex.from_tuples(\n",
    "        [\n",
    "            ('PFA', '0', '1'),\n",
    "        ],\n",
    "    ),\n",
    ")\n",
    "\n",
    "asmnt.demand.load_model({'marginals': demands})\n",
    "\n",
    "asmnt.demand.generate_sample({'SampleSize': sample_size})\n",
    "\n",
    "#\n",
    "# Asset\n",
    "#\n",
    "\n",
    "asmnt.stories = 1\n",
    "\n",
    "cmp_marginals = pd.read_csv('example_1/CMP_marginals.csv', index_col=0)\n",
    "cmp_marginals['Blocks'] = cmp_marginals['Blocks']\n",
    "asmnt.asset.load_cmp_model({'marginals': cmp_marginals})\n",
    "\n",
    "asmnt.asset.generate_cmp_sample(sample_size)"
   ]
  },
  {
   "cell_type": "code",
   "execution_count": 5,
   "id": "78109dbd",
   "metadata": {
    "execution": {
     "iopub.execute_input": "2025-02-05T00:42:33.694625Z",
     "iopub.status.busy": "2025-02-05T00:42:33.694200Z",
     "iopub.status.idle": "2025-02-05T00:42:33.697013Z",
     "shell.execute_reply": "2025-02-05T00:42:33.696470Z"
    }
   },
   "outputs": [],
   "source": [
    "#\n",
    "# Damage\n",
    "#\n",
    "\n",
    "# nothing to do here."
   ]
  },
  {
   "cell_type": "code",
   "execution_count": 6,
   "id": "5f24cf2c",
   "metadata": {
    "execution": {
     "iopub.execute_input": "2025-02-05T00:42:33.699136Z",
     "iopub.status.busy": "2025-02-05T00:42:33.698736Z",
     "iopub.status.idle": "2025-02-05T00:42:33.709449Z",
     "shell.execute_reply": "2025-02-05T00:42:33.708897Z"
    },
    "lines_to_next_cell": 0
   },
   "outputs": [],
   "source": [
    "#\n",
    "# Losses\n",
    "#\n",
    "\n",
    "asmnt.loss.decision_variables = ('Cost',)\n",
    "\n",
    "loss_map = pd.DataFrame(['cmp.A'], columns=['Repair'], index=['cmp.A'])\n",
    "asmnt.loss.add_loss_map(loss_map)\n",
    "\n",
    "loss_functions = file_io.load_data(\n",
    "    'example_1/loss_functions.csv',\n",
    "    reindex=False,\n",
    "    unit_conversion_factors=asmnt.unit_conversion_factors,\n",
    ")"
   ]
  },
  {
   "cell_type": "code",
   "execution_count": 7,
   "id": "4e0741b2",
   "metadata": {
    "execution": {
     "iopub.execute_input": "2025-02-05T00:42:33.711446Z",
     "iopub.status.busy": "2025-02-05T00:42:33.711238Z",
     "iopub.status.idle": "2025-02-05T00:42:33.714251Z",
     "shell.execute_reply": "2025-02-05T00:42:33.713699Z"
    },
    "lines_to_next_cell": 0,
    "nbsphinx": "hidden"
   },
   "outputs": [],
   "source": [
    "assert isinstance(loss_functions, pd.DataFrame)"
   ]
  },
  {
   "cell_type": "code",
   "execution_count": 8,
   "id": "abe40ed9",
   "metadata": {
    "execution": {
     "iopub.execute_input": "2025-02-05T00:42:33.716107Z",
     "iopub.status.busy": "2025-02-05T00:42:33.715887Z",
     "iopub.status.idle": "2025-02-05T00:42:33.811081Z",
     "shell.execute_reply": "2025-02-05T00:42:33.810452Z"
    },
    "lines_to_next_cell": 0
   },
   "outputs": [],
   "source": [
    "asmnt.loss.load_model_parameters([loss_functions])\n",
    "asmnt.loss.calculate()\n",
    "\n",
    "loss, _ = asmnt.loss.aggregate_losses(future=True)"
   ]
  },
  {
   "cell_type": "code",
   "execution_count": 9,
   "id": "2bed96af",
   "metadata": {
    "execution": {
     "iopub.execute_input": "2025-02-05T00:42:33.813430Z",
     "iopub.status.busy": "2025-02-05T00:42:33.813227Z",
     "iopub.status.idle": "2025-02-05T00:42:33.816558Z",
     "shell.execute_reply": "2025-02-05T00:42:33.816017Z"
    },
    "nbsphinx": "hidden"
   },
   "outputs": [],
   "source": [
    "assert isinstance(loss, pd.DataFrame)\n",
    "\n",
    "loss_vals = loss['repair_cost'].to_numpy()"
   ]
  },
  {
   "cell_type": "code",
   "execution_count": 10,
   "id": "61a01ade",
   "metadata": {
    "execution": {
     "iopub.execute_input": "2025-02-05T00:42:33.818576Z",
     "iopub.status.busy": "2025-02-05T00:42:33.818204Z",
     "iopub.status.idle": "2025-02-05T00:42:33.823434Z",
     "shell.execute_reply": "2025-02-05T00:42:33.822903Z"
    },
    "nbsphinx": "hidden"
   },
   "outputs": [],
   "source": [
    "# sample median should be close to 0.05\n",
    "assert np.allclose(np.median(loss_vals), 0.05, atol=1e-2)\n",
    "# dispersion should be close to 0.9\n",
    "assert np.allclose(np.log(loss_vals).std(), 0.90, atol=1e-2)"
   ]
  }
 ],
 "metadata": {
  "jupytext": {
   "cell_metadata_filter": "nbsphinx,-all",
   "main_language": "python",
   "notebook_metadata_filter": "-all",
   "text_representation": {
    "extension": ".py",
    "format_name": "percent"
   }
  },
  "language_info": {
   "codemirror_mode": {
    "name": "ipython",
    "version": 3
   },
   "file_extension": ".py",
   "mimetype": "text/x-python",
   "name": "python",
   "nbconvert_exporter": "python",
   "pygments_lexer": "ipython3",
   "version": "3.10.16"
  }
 },
 "nbformat": 4,
 "nbformat_minor": 5
}
