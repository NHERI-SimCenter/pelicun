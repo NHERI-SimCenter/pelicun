{
 "cells": [
  {
   "cell_type": "markdown",
   "id": "c2a7899c",
   "metadata": {},
   "source": [
    "# Example 1: Simple loss function."
   ]
  },
  {
   "cell_type": "markdown",
   "id": "3c02b3c0",
   "metadata": {
    "cell_marker": "\"\"\""
   },
   "source": [
    "In this example, a single loss function is defined as a 1:1 mapping of the input EDP.\n",
    "This means that the resulting loss distribution will be the same as the EDP distribution, allowing us to test and confirm that this is what happens."
   ]
  },
  {
   "cell_type": "code",
   "execution_count": 1,
   "id": "a66e9287",
   "metadata": {
    "execution": {
     "iopub.execute_input": "2025-08-13T01:02:15.447375Z",
     "iopub.status.busy": "2025-08-13T01:02:15.447173Z",
     "iopub.status.idle": "2025-08-13T01:02:16.066557Z",
     "shell.execute_reply": "2025-08-13T01:02:16.065815Z"
    }
   },
   "outputs": [],
   "source": [
    "from __future__ import annotations\n",
    "\n",
    "import numpy as np\n",
    "import pandas as pd\n",
    "\n",
    "from pelicun import assessment, file_io"
   ]
  },
  {
   "cell_type": "code",
   "execution_count": 2,
   "id": "b0e8c3b6",
   "metadata": {
    "execution": {
     "iopub.execute_input": "2025-08-13T01:02:16.068929Z",
     "iopub.status.busy": "2025-08-13T01:02:16.068670Z",
     "iopub.status.idle": "2025-08-13T01:02:16.071535Z",
     "shell.execute_reply": "2025-08-13T01:02:16.070910Z"
    }
   },
   "outputs": [],
   "source": [
    "sample_size = 100000"
   ]
  },
  {
   "cell_type": "code",
   "execution_count": 3,
   "id": "36c50f97",
   "metadata": {
    "execution": {
     "iopub.execute_input": "2025-08-13T01:02:16.073385Z",
     "iopub.status.busy": "2025-08-13T01:02:16.073172Z",
     "iopub.status.idle": "2025-08-13T01:02:16.077527Z",
     "shell.execute_reply": "2025-08-13T01:02:16.076949Z"
    }
   },
   "outputs": [],
   "source": [
    "# initialize a pelicun assessment\n",
    "asmnt = assessment.Assessment({'PrintLog': False, 'Seed': 42})"
   ]
  },
  {
   "cell_type": "code",
   "execution_count": 4,
   "id": "8ddab60a",
   "metadata": {
    "execution": {
     "iopub.execute_input": "2025-08-13T01:02:16.079549Z",
     "iopub.status.busy": "2025-08-13T01:02:16.079240Z",
     "iopub.status.idle": "2025-08-13T01:02:16.144888Z",
     "shell.execute_reply": "2025-08-13T01:02:16.144179Z"
    }
   },
   "outputs": [],
   "source": [
    "\n",
    "#\n",
    "# Demands\n",
    "#\n",
    "\n",
    "demands = pd.DataFrame(\n",
    "    {\n",
    "        'Theta_0': [0.50],\n",
    "        'Theta_1': [0.90],\n",
    "        'Family': ['lognormal'],\n",
    "        'Units': ['mps2'],\n",
    "    },\n",
    "    index=pd.MultiIndex.from_tuples(\n",
    "        [\n",
    "            ('PFA', '0', '1'),\n",
    "        ],\n",
    "    ),\n",
    ")\n",
    "\n",
    "asmnt.demand.load_model({'marginals': demands})\n",
    "\n",
    "asmnt.demand.generate_sample({'SampleSize': sample_size})\n",
    "\n",
    "#\n",
    "# Asset\n",
    "#\n",
    "\n",
    "asmnt.stories = 1\n",
    "\n",
    "cmp_marginals = pd.read_csv('example_1/CMP_marginals.csv', index_col=0)\n",
    "cmp_marginals['Blocks'] = cmp_marginals['Blocks']\n",
    "asmnt.asset.load_cmp_model({'marginals': cmp_marginals})\n",
    "\n",
    "asmnt.asset.generate_cmp_sample(sample_size)"
   ]
  },
  {
   "cell_type": "code",
   "execution_count": 5,
   "id": "14c8ea44",
   "metadata": {
    "execution": {
     "iopub.execute_input": "2025-08-13T01:02:16.146747Z",
     "iopub.status.busy": "2025-08-13T01:02:16.146551Z",
     "iopub.status.idle": "2025-08-13T01:02:16.149185Z",
     "shell.execute_reply": "2025-08-13T01:02:16.148570Z"
    }
   },
   "outputs": [],
   "source": [
    "#\n",
    "# Damage\n",
    "#\n",
    "\n",
    "# nothing to do here."
   ]
  },
  {
   "cell_type": "code",
   "execution_count": 6,
   "id": "03f199c6",
   "metadata": {
    "execution": {
     "iopub.execute_input": "2025-08-13T01:02:16.151037Z",
     "iopub.status.busy": "2025-08-13T01:02:16.150856Z",
     "iopub.status.idle": "2025-08-13T01:02:16.160573Z",
     "shell.execute_reply": "2025-08-13T01:02:16.160046Z"
    },
    "lines_to_next_cell": 0
   },
   "outputs": [],
   "source": [
    "#\n",
    "# Losses\n",
    "#\n",
    "\n",
    "asmnt.loss.decision_variables = ('Cost',)\n",
    "\n",
    "loss_map = pd.DataFrame(['cmp.A'], columns=['Repair'], index=['cmp.A'])\n",
    "asmnt.loss.add_loss_map(loss_map)\n",
    "\n",
    "loss_functions = file_io.load_data(\n",
    "    'example_1/loss_functions.csv',\n",
    "    reindex=False,\n",
    "    unit_conversion_factors=asmnt.unit_conversion_factors,\n",
    ")"
   ]
  },
  {
   "cell_type": "code",
   "execution_count": 7,
   "id": "0c41734a",
   "metadata": {
    "execution": {
     "iopub.execute_input": "2025-08-13T01:02:16.162317Z",
     "iopub.status.busy": "2025-08-13T01:02:16.162137Z",
     "iopub.status.idle": "2025-08-13T01:02:16.164839Z",
     "shell.execute_reply": "2025-08-13T01:02:16.164311Z"
    },
    "lines_to_next_cell": 0,
    "nbsphinx": "hidden"
   },
   "outputs": [],
   "source": [
    "assert isinstance(loss_functions, pd.DataFrame)"
   ]
  },
  {
   "cell_type": "code",
   "execution_count": 8,
   "id": "bd6807d1",
   "metadata": {
    "execution": {
     "iopub.execute_input": "2025-08-13T01:02:16.166489Z",
     "iopub.status.busy": "2025-08-13T01:02:16.166283Z",
     "iopub.status.idle": "2025-08-13T01:02:16.259466Z",
     "shell.execute_reply": "2025-08-13T01:02:16.258871Z"
    },
    "lines_to_next_cell": 0
   },
   "outputs": [],
   "source": [
    "asmnt.loss.load_model_parameters([loss_functions])\n",
    "asmnt.loss.calculate()\n",
    "\n",
    "loss, _ = asmnt.loss.aggregate_losses(future=True)"
   ]
  },
  {
   "cell_type": "code",
   "execution_count": 9,
   "id": "5f67a240",
   "metadata": {
    "execution": {
     "iopub.execute_input": "2025-08-13T01:02:16.261487Z",
     "iopub.status.busy": "2025-08-13T01:02:16.261269Z",
     "iopub.status.idle": "2025-08-13T01:02:16.264395Z",
     "shell.execute_reply": "2025-08-13T01:02:16.263856Z"
    },
    "nbsphinx": "hidden"
   },
   "outputs": [],
   "source": [
    "assert isinstance(loss, pd.DataFrame)\n",
    "\n",
    "loss_vals = loss['repair_cost'].to_numpy()"
   ]
  },
  {
   "cell_type": "code",
   "execution_count": 10,
   "id": "01919255",
   "metadata": {
    "execution": {
     "iopub.execute_input": "2025-08-13T01:02:16.266052Z",
     "iopub.status.busy": "2025-08-13T01:02:16.265876Z",
     "iopub.status.idle": "2025-08-13T01:02:16.270783Z",
     "shell.execute_reply": "2025-08-13T01:02:16.270278Z"
    },
    "nbsphinx": "hidden"
   },
   "outputs": [],
   "source": [
    "# sample median should be close to 0.05\n",
    "assert np.allclose(np.median(loss_vals), 0.05, atol=1e-2)\n",
    "# dispersion should be close to 0.9\n",
    "assert np.allclose(np.log(loss_vals).std(), 0.90, atol=1e-2)"
   ]
  }
 ],
 "metadata": {
  "jupytext": {
   "cell_metadata_filter": "nbsphinx,-all",
   "main_language": "python",
   "notebook_metadata_filter": "-all",
   "text_representation": {
    "extension": ".py",
    "format_name": "percent"
   }
  },
  "language_info": {
   "codemirror_mode": {
    "name": "ipython",
    "version": 3
   },
   "file_extension": ".py",
   "mimetype": "text/x-python",
   "name": "python",
   "nbconvert_exporter": "python",
   "pygments_lexer": "ipython3",
   "version": "3.10.18"
  }
 },
 "nbformat": 4,
 "nbformat_minor": 5
}
