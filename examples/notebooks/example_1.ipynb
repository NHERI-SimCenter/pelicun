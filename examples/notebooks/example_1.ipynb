{
 "cells": [
  {
   "cell_type": "markdown",
   "id": "e89f88e2",
   "metadata": {},
   "source": [
    "# Example 1: Simple loss function."
   ]
  },
  {
   "cell_type": "markdown",
   "id": "e6c424b5",
   "metadata": {
    "cell_marker": "\"\"\""
   },
   "source": [
    "In this example, a single loss function is defined as a 1:1 mapping of the input EDP.\n",
    "This means that the resulting loss distribution will be the same as the EDP distribution, allowing us to test and confirm that this is what happens."
   ]
  },
  {
   "cell_type": "code",
   "execution_count": 1,
   "id": "71ecf1fb",
   "metadata": {
    "execution": {
     "iopub.execute_input": "2025-02-04T20:47:26.424386Z",
     "iopub.status.busy": "2025-02-04T20:47:26.423914Z",
     "iopub.status.idle": "2025-02-04T20:47:27.040411Z",
     "shell.execute_reply": "2025-02-04T20:47:27.039712Z"
    }
   },
   "outputs": [],
   "source": [
    "from __future__ import annotations\n",
    "\n",
    "import numpy as np\n",
    "import pandas as pd\n",
    "\n",
    "from pelicun import assessment, file_io"
   ]
  },
  {
   "cell_type": "code",
   "execution_count": 2,
   "id": "76fa9044",
   "metadata": {
    "execution": {
     "iopub.execute_input": "2025-02-04T20:47:27.043174Z",
     "iopub.status.busy": "2025-02-04T20:47:27.042564Z",
     "iopub.status.idle": "2025-02-04T20:47:27.046012Z",
     "shell.execute_reply": "2025-02-04T20:47:27.045316Z"
    }
   },
   "outputs": [],
   "source": [
    "sample_size = 100000"
   ]
  },
  {
   "cell_type": "code",
   "execution_count": 3,
   "id": "991e9aba",
   "metadata": {
    "execution": {
     "iopub.execute_input": "2025-02-04T20:47:27.048301Z",
     "iopub.status.busy": "2025-02-04T20:47:27.047785Z",
     "iopub.status.idle": "2025-02-04T20:47:27.052545Z",
     "shell.execute_reply": "2025-02-04T20:47:27.051807Z"
    }
   },
   "outputs": [],
   "source": [
    "# initialize a pelicun assessment\n",
    "asmnt = assessment.Assessment({'PrintLog': False, 'Seed': 42})"
   ]
  },
  {
   "cell_type": "code",
   "execution_count": 4,
   "id": "7ab541d1",
   "metadata": {
    "execution": {
     "iopub.execute_input": "2025-02-04T20:47:27.054830Z",
     "iopub.status.busy": "2025-02-04T20:47:27.054466Z",
     "iopub.status.idle": "2025-02-04T20:47:27.705641Z",
     "shell.execute_reply": "2025-02-04T20:47:27.704908Z"
    }
   },
   "outputs": [],
   "source": [
    "\n",
    "#\n",
    "# Demands\n",
    "#\n",
    "\n",
    "demands = pd.DataFrame(\n",
    "    {\n",
    "        'Theta_0': [0.50],\n",
    "        'Theta_1': [0.90],\n",
    "        'Family': ['lognormal'],\n",
    "        'Units': ['mps2'],\n",
    "    },\n",
    "    index=pd.MultiIndex.from_tuples(\n",
    "        [\n",
    "            ('PFA', '0', '1'),\n",
    "        ],\n",
    "    ),\n",
    ")\n",
    "\n",
    "asmnt.demand.load_model({'marginals': demands})\n",
    "\n",
    "asmnt.demand.generate_sample({'SampleSize': sample_size})\n",
    "\n",
    "#\n",
    "# Asset\n",
    "#\n",
    "\n",
    "asmnt.stories = 1\n",
    "\n",
    "cmp_marginals = pd.read_csv('example_1/CMP_marginals.csv', index_col=0)\n",
    "cmp_marginals['Blocks'] = cmp_marginals['Blocks']\n",
    "asmnt.asset.load_cmp_model({'marginals': cmp_marginals})\n",
    "\n",
    "asmnt.asset.generate_cmp_sample(sample_size)"
   ]
  },
  {
   "cell_type": "code",
   "execution_count": 5,
   "id": "30b129ee",
   "metadata": {
    "execution": {
     "iopub.execute_input": "2025-02-04T20:47:27.708340Z",
     "iopub.status.busy": "2025-02-04T20:47:27.707972Z",
     "iopub.status.idle": "2025-02-04T20:47:27.710886Z",
     "shell.execute_reply": "2025-02-04T20:47:27.710252Z"
    }
   },
   "outputs": [],
   "source": [
    "#\n",
    "# Damage\n",
    "#\n",
    "\n",
    "# nothing to do here."
   ]
  },
  {
   "cell_type": "code",
   "execution_count": 6,
   "id": "7f9ace21",
   "metadata": {
    "execution": {
     "iopub.execute_input": "2025-02-04T20:47:27.712814Z",
     "iopub.status.busy": "2025-02-04T20:47:27.712466Z",
     "iopub.status.idle": "2025-02-04T20:47:27.722762Z",
     "shell.execute_reply": "2025-02-04T20:47:27.722261Z"
    },
    "lines_to_next_cell": 0
   },
   "outputs": [],
   "source": [
    "#\n",
    "# Losses\n",
    "#\n",
    "\n",
    "asmnt.loss.decision_variables = ('Cost',)\n",
    "\n",
    "loss_map = pd.DataFrame(['cmp.A'], columns=['Repair'], index=['cmp.A'])\n",
    "asmnt.loss.add_loss_map(loss_map)\n",
    "\n",
    "loss_functions = file_io.load_data(\n",
    "    'example_1/loss_functions.csv',\n",
    "    reindex=False,\n",
    "    unit_conversion_factors=asmnt.unit_conversion_factors,\n",
    ")"
   ]
  },
  {
   "cell_type": "code",
   "execution_count": 7,
   "id": "88663f4c",
   "metadata": {
    "execution": {
     "iopub.execute_input": "2025-02-04T20:47:27.724738Z",
     "iopub.status.busy": "2025-02-04T20:47:27.724387Z",
     "iopub.status.idle": "2025-02-04T20:47:27.727450Z",
     "shell.execute_reply": "2025-02-04T20:47:27.726913Z"
    },
    "lines_to_next_cell": 0,
    "nbsphinx": "hidden"
   },
   "outputs": [],
   "source": [
    "assert isinstance(loss_functions, pd.DataFrame)"
   ]
  },
  {
   "cell_type": "code",
   "execution_count": 8,
   "id": "96439f1f",
   "metadata": {
    "execution": {
     "iopub.execute_input": "2025-02-04T20:47:27.729237Z",
     "iopub.status.busy": "2025-02-04T20:47:27.729040Z",
     "iopub.status.idle": "2025-02-04T20:47:27.824094Z",
     "shell.execute_reply": "2025-02-04T20:47:27.823430Z"
    },
    "lines_to_next_cell": 0
   },
   "outputs": [],
   "source": [
    "asmnt.loss.load_model_parameters([loss_functions])\n",
    "asmnt.loss.calculate()\n",
    "\n",
    "loss, _ = asmnt.loss.aggregate_losses(future=True)"
   ]
  },
  {
   "cell_type": "code",
   "execution_count": 9,
   "id": "8e35e316",
   "metadata": {
    "execution": {
     "iopub.execute_input": "2025-02-04T20:47:27.826387Z",
     "iopub.status.busy": "2025-02-04T20:47:27.826183Z",
     "iopub.status.idle": "2025-02-04T20:47:27.829639Z",
     "shell.execute_reply": "2025-02-04T20:47:27.829110Z"
    },
    "nbsphinx": "hidden"
   },
   "outputs": [],
   "source": [
    "assert isinstance(loss, pd.DataFrame)\n",
    "\n",
    "loss_vals = loss['repair_cost'].to_numpy()"
   ]
  },
  {
   "cell_type": "code",
   "execution_count": 10,
   "id": "17c446c2",
   "metadata": {
    "execution": {
     "iopub.execute_input": "2025-02-04T20:47:27.831586Z",
     "iopub.status.busy": "2025-02-04T20:47:27.831146Z",
     "iopub.status.idle": "2025-02-04T20:47:27.836614Z",
     "shell.execute_reply": "2025-02-04T20:47:27.835975Z"
    },
    "nbsphinx": "hidden"
   },
   "outputs": [],
   "source": [
    "# sample median should be close to 0.05\n",
    "assert np.allclose(np.median(loss_vals), 0.05, atol=1e-2)\n",
    "# dispersion should be close to 0.9\n",
    "assert np.allclose(np.log(loss_vals).std(), 0.90, atol=1e-2)"
   ]
  }
 ],
 "metadata": {
  "jupytext": {
   "cell_metadata_filter": "nbsphinx,-all",
   "main_language": "python",
   "notebook_metadata_filter": "-all",
   "text_representation": {
    "extension": ".py",
    "format_name": "percent"
   }
  },
  "language_info": {
   "codemirror_mode": {
    "name": "ipython",
    "version": 3
   },
   "file_extension": ".py",
   "mimetype": "text/x-python",
   "name": "python",
   "nbconvert_exporter": "python",
   "pygments_lexer": "ipython3",
   "version": "3.10.16"
  }
 },
 "nbformat": 4,
 "nbformat_minor": 5
}
