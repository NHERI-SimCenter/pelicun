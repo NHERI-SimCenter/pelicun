{
 "cells": [
  {
   "cell_type": "markdown",
   "id": "36516047",
   "metadata": {},
   "source": [
    "# Example 1: Simple loss function."
   ]
  },
  {
   "cell_type": "markdown",
   "id": "6dbc8b8c",
   "metadata": {
    "cell_marker": "\"\"\""
   },
   "source": [
    "In this example, a single loss function is defined as a 1:1 mapping of the input EDP.\n",
    "This means that the resulting loss distribution will be the same as the EDP distribution, allowing us to test and confirm that this is what happens."
   ]
  },
  {
   "cell_type": "code",
   "execution_count": 1,
   "id": "5dbcd12c",
   "metadata": {
    "execution": {
     "iopub.execute_input": "2024-12-13T19:17:45.259213Z",
     "iopub.status.busy": "2024-12-13T19:17:45.258679Z",
     "iopub.status.idle": "2024-12-13T19:17:45.806695Z",
     "shell.execute_reply": "2024-12-13T19:17:45.805969Z"
    }
   },
   "outputs": [],
   "source": [
    "from __future__ import annotations\n",
    "\n",
    "import numpy as np\n",
    "import pandas as pd\n",
    "\n",
    "from pelicun import assessment, file_io"
   ]
  },
  {
   "cell_type": "code",
   "execution_count": 2,
   "id": "0a2161df",
   "metadata": {
    "execution": {
     "iopub.execute_input": "2024-12-13T19:17:45.809295Z",
     "iopub.status.busy": "2024-12-13T19:17:45.808846Z",
     "iopub.status.idle": "2024-12-13T19:17:45.811760Z",
     "shell.execute_reply": "2024-12-13T19:17:45.811217Z"
    }
   },
   "outputs": [],
   "source": [
    "sample_size = 100000"
   ]
  },
  {
   "cell_type": "code",
   "execution_count": 3,
   "id": "33d69679",
   "metadata": {
    "execution": {
     "iopub.execute_input": "2024-12-13T19:17:45.813627Z",
     "iopub.status.busy": "2024-12-13T19:17:45.813337Z",
     "iopub.status.idle": "2024-12-13T19:17:45.817657Z",
     "shell.execute_reply": "2024-12-13T19:17:45.817041Z"
    }
   },
   "outputs": [],
   "source": [
    "# initialize a pelicun assessment\n",
    "asmnt = assessment.Assessment({'PrintLog': False, 'Seed': 42})"
   ]
  },
  {
   "cell_type": "code",
   "execution_count": 4,
   "id": "e700f505",
   "metadata": {
    "execution": {
     "iopub.execute_input": "2024-12-13T19:17:45.819757Z",
     "iopub.status.busy": "2024-12-13T19:17:45.819377Z",
     "iopub.status.idle": "2024-12-13T19:17:45.880970Z",
     "shell.execute_reply": "2024-12-13T19:17:45.880439Z"
    }
   },
   "outputs": [],
   "source": [
    "\n",
    "#\n",
    "# Demands\n",
    "#\n",
    "\n",
    "demands = pd.DataFrame(\n",
    "    {\n",
    "        'Theta_0': [0.50],\n",
    "        'Theta_1': [0.90],\n",
    "        'Family': ['lognormal'],\n",
    "        'Units': ['mps2'],\n",
    "    },\n",
    "    index=pd.MultiIndex.from_tuples(\n",
    "        [\n",
    "            ('PFA', '0', '1'),\n",
    "        ],\n",
    "    ),\n",
    ")\n",
    "\n",
    "asmnt.demand.load_model({'marginals': demands})\n",
    "\n",
    "asmnt.demand.generate_sample({'SampleSize': sample_size})\n",
    "\n",
    "#\n",
    "# Asset\n",
    "#\n",
    "\n",
    "asmnt.stories = 1\n",
    "\n",
    "cmp_marginals = pd.read_csv('example_1/CMP_marginals.csv', index_col=0)\n",
    "cmp_marginals['Blocks'] = cmp_marginals['Blocks']\n",
    "asmnt.asset.load_cmp_model({'marginals': cmp_marginals})\n",
    "\n",
    "asmnt.asset.generate_cmp_sample(sample_size)"
   ]
  },
  {
   "cell_type": "code",
   "execution_count": 5,
   "id": "f8a8d4a0",
   "metadata": {
    "execution": {
     "iopub.execute_input": "2024-12-13T19:17:45.883070Z",
     "iopub.status.busy": "2024-12-13T19:17:45.882690Z",
     "iopub.status.idle": "2024-12-13T19:17:45.885415Z",
     "shell.execute_reply": "2024-12-13T19:17:45.884881Z"
    }
   },
   "outputs": [],
   "source": [
    "#\n",
    "# Damage\n",
    "#\n",
    "\n",
    "# nothing to do here."
   ]
  },
  {
   "cell_type": "code",
   "execution_count": 6,
   "id": "8af667d0",
   "metadata": {
    "execution": {
     "iopub.execute_input": "2024-12-13T19:17:45.887316Z",
     "iopub.status.busy": "2024-12-13T19:17:45.886952Z",
     "iopub.status.idle": "2024-12-13T19:17:45.896803Z",
     "shell.execute_reply": "2024-12-13T19:17:45.896289Z"
    },
    "lines_to_next_cell": 0
   },
   "outputs": [],
   "source": [
    "#\n",
    "# Losses\n",
    "#\n",
    "\n",
    "asmnt.loss.decision_variables = ('Cost',)\n",
    "\n",
    "loss_map = pd.DataFrame(['cmp.A'], columns=['Repair'], index=['cmp.A'])\n",
    "asmnt.loss.add_loss_map(loss_map)\n",
    "\n",
    "loss_functions = file_io.load_data(\n",
    "    'example_1/loss_functions.csv',\n",
    "    reindex=False,\n",
    "    unit_conversion_factors=asmnt.unit_conversion_factors,\n",
    ")"
   ]
  },
  {
   "cell_type": "code",
   "execution_count": 7,
   "id": "eef3e32d",
   "metadata": {
    "execution": {
     "iopub.execute_input": "2024-12-13T19:17:45.898794Z",
     "iopub.status.busy": "2024-12-13T19:17:45.898345Z",
     "iopub.status.idle": "2024-12-13T19:17:45.901454Z",
     "shell.execute_reply": "2024-12-13T19:17:45.900806Z"
    },
    "lines_to_next_cell": 0,
    "nbsphinx": "hidden"
   },
   "outputs": [],
   "source": [
    "assert isinstance(loss_functions, pd.DataFrame)"
   ]
  },
  {
   "cell_type": "code",
   "execution_count": 8,
   "id": "42a07f8e",
   "metadata": {
    "execution": {
     "iopub.execute_input": "2024-12-13T19:17:45.903366Z",
     "iopub.status.busy": "2024-12-13T19:17:45.903021Z",
     "iopub.status.idle": "2024-12-13T19:17:45.997642Z",
     "shell.execute_reply": "2024-12-13T19:17:45.996956Z"
    },
    "lines_to_next_cell": 0
   },
   "outputs": [],
   "source": [
    "asmnt.loss.load_model_parameters([loss_functions])\n",
    "asmnt.loss.calculate()\n",
    "\n",
    "loss, _ = asmnt.loss.aggregate_losses(future=True)"
   ]
  },
  {
   "cell_type": "code",
   "execution_count": 9,
   "id": "82f92a24",
   "metadata": {
    "execution": {
     "iopub.execute_input": "2024-12-13T19:17:45.999943Z",
     "iopub.status.busy": "2024-12-13T19:17:45.999588Z",
     "iopub.status.idle": "2024-12-13T19:17:46.002799Z",
     "shell.execute_reply": "2024-12-13T19:17:46.002156Z"
    },
    "nbsphinx": "hidden"
   },
   "outputs": [],
   "source": [
    "assert isinstance(loss, pd.DataFrame)\n",
    "\n",
    "loss_vals = loss['repair_cost'].to_numpy()"
   ]
  },
  {
   "cell_type": "code",
   "execution_count": 10,
   "id": "0735dad1",
   "metadata": {
    "execution": {
     "iopub.execute_input": "2024-12-13T19:17:46.004774Z",
     "iopub.status.busy": "2024-12-13T19:17:46.004433Z",
     "iopub.status.idle": "2024-12-13T19:17:46.009670Z",
     "shell.execute_reply": "2024-12-13T19:17:46.009060Z"
    },
    "nbsphinx": "hidden"
   },
   "outputs": [],
   "source": [
    "# sample median should be close to 0.05\n",
    "assert np.allclose(np.median(loss_vals), 0.05, atol=1e-2)\n",
    "# dispersion should be close to 0.9\n",
    "assert np.allclose(np.log(loss_vals).std(), 0.90, atol=1e-2)"
   ]
  }
 ],
 "metadata": {
  "jupytext": {
   "cell_metadata_filter": "nbsphinx,-all",
   "main_language": "python",
   "notebook_metadata_filter": "-all",
   "text_representation": {
    "extension": ".py",
    "format_name": "percent"
   }
  },
  "language_info": {
   "codemirror_mode": {
    "name": "ipython",
    "version": 3
   },
   "file_extension": ".py",
   "mimetype": "text/x-python",
   "name": "python",
   "nbconvert_exporter": "python",
   "pygments_lexer": "ipython3",
   "version": "3.10.15"
  }
 },
 "nbformat": 4,
 "nbformat_minor": 5
}
