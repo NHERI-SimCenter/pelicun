{
 "cells": [
  {
   "cell_type": "markdown",
   "id": "301acec9",
   "metadata": {},
   "source": [
    "# Example 1: Simple loss function."
   ]
  },
  {
   "cell_type": "markdown",
   "id": "f79e327a",
   "metadata": {
    "cell_marker": "\"\"\""
   },
   "source": [
    "In this example, a single loss function is defined as a 1:1 mapping of the input EDP.\n",
    "This means that the resulting loss distribution will be the same as the EDP distribution, allowing us to test and confirm that this is what happens."
   ]
  },
  {
   "cell_type": "code",
   "execution_count": 1,
   "id": "f8cf4ba8",
   "metadata": {
    "execution": {
     "iopub.execute_input": "2025-01-30T22:27:49.614931Z",
     "iopub.status.busy": "2025-01-30T22:27:49.614721Z",
     "iopub.status.idle": "2025-01-30T22:27:50.227591Z",
     "shell.execute_reply": "2025-01-30T22:27:50.226820Z"
    }
   },
   "outputs": [],
   "source": [
    "from __future__ import annotations\n",
    "\n",
    "import numpy as np\n",
    "import pandas as pd\n",
    "\n",
    "from pelicun import assessment, file_io"
   ]
  },
  {
   "cell_type": "code",
   "execution_count": 2,
   "id": "7a221572",
   "metadata": {
    "execution": {
     "iopub.execute_input": "2025-01-30T22:27:50.230028Z",
     "iopub.status.busy": "2025-01-30T22:27:50.229760Z",
     "iopub.status.idle": "2025-01-30T22:27:50.232691Z",
     "shell.execute_reply": "2025-01-30T22:27:50.232187Z"
    }
   },
   "outputs": [],
   "source": [
    "sample_size = 100000"
   ]
  },
  {
   "cell_type": "code",
   "execution_count": 3,
   "id": "433a60b3",
   "metadata": {
    "execution": {
     "iopub.execute_input": "2025-01-30T22:27:50.234520Z",
     "iopub.status.busy": "2025-01-30T22:27:50.234332Z",
     "iopub.status.idle": "2025-01-30T22:27:50.238662Z",
     "shell.execute_reply": "2025-01-30T22:27:50.238126Z"
    }
   },
   "outputs": [],
   "source": [
    "# initialize a pelicun assessment\n",
    "asmnt = assessment.Assessment({'PrintLog': False, 'Seed': 42})"
   ]
  },
  {
   "cell_type": "code",
   "execution_count": 4,
   "id": "079231cb",
   "metadata": {
    "execution": {
     "iopub.execute_input": "2025-01-30T22:27:50.240550Z",
     "iopub.status.busy": "2025-01-30T22:27:50.240363Z",
     "iopub.status.idle": "2025-01-30T22:27:50.316234Z",
     "shell.execute_reply": "2025-01-30T22:27:50.315646Z"
    }
   },
   "outputs": [],
   "source": [
    "\n",
    "#\n",
    "# Demands\n",
    "#\n",
    "\n",
    "demands = pd.DataFrame(\n",
    "    {\n",
    "        'Theta_0': [0.50],\n",
    "        'Theta_1': [0.90],\n",
    "        'Family': ['lognormal'],\n",
    "        'Units': ['mps2'],\n",
    "    },\n",
    "    index=pd.MultiIndex.from_tuples(\n",
    "        [\n",
    "            ('PFA', '0', '1'),\n",
    "        ],\n",
    "    ),\n",
    ")\n",
    "\n",
    "asmnt.demand.load_model({'marginals': demands})\n",
    "\n",
    "asmnt.demand.generate_sample({'SampleSize': sample_size})\n",
    "\n",
    "#\n",
    "# Asset\n",
    "#\n",
    "\n",
    "asmnt.stories = 1\n",
    "\n",
    "cmp_marginals = pd.read_csv('example_1/CMP_marginals.csv', index_col=0)\n",
    "cmp_marginals['Blocks'] = cmp_marginals['Blocks']\n",
    "asmnt.asset.load_cmp_model({'marginals': cmp_marginals})\n",
    "\n",
    "asmnt.asset.generate_cmp_sample(sample_size)"
   ]
  },
  {
   "cell_type": "code",
   "execution_count": 5,
   "id": "e73fb9aa",
   "metadata": {
    "execution": {
     "iopub.execute_input": "2025-01-30T22:27:50.318413Z",
     "iopub.status.busy": "2025-01-30T22:27:50.318220Z",
     "iopub.status.idle": "2025-01-30T22:27:50.321062Z",
     "shell.execute_reply": "2025-01-30T22:27:50.320516Z"
    }
   },
   "outputs": [],
   "source": [
    "#\n",
    "# Damage\n",
    "#\n",
    "\n",
    "# nothing to do here."
   ]
  },
  {
   "cell_type": "code",
   "execution_count": 6,
   "id": "3e747d09",
   "metadata": {
    "execution": {
     "iopub.execute_input": "2025-01-30T22:27:50.322873Z",
     "iopub.status.busy": "2025-01-30T22:27:50.322683Z",
     "iopub.status.idle": "2025-01-30T22:27:50.332797Z",
     "shell.execute_reply": "2025-01-30T22:27:50.332287Z"
    },
    "lines_to_next_cell": 0
   },
   "outputs": [],
   "source": [
    "#\n",
    "# Losses\n",
    "#\n",
    "\n",
    "asmnt.loss.decision_variables = ('Cost',)\n",
    "\n",
    "loss_map = pd.DataFrame(['cmp.A'], columns=['Repair'], index=['cmp.A'])\n",
    "asmnt.loss.add_loss_map(loss_map)\n",
    "\n",
    "loss_functions = file_io.load_data(\n",
    "    'example_1/loss_functions.csv',\n",
    "    reindex=False,\n",
    "    unit_conversion_factors=asmnt.unit_conversion_factors,\n",
    ")"
   ]
  },
  {
   "cell_type": "code",
   "execution_count": 7,
   "id": "11d9d37b",
   "metadata": {
    "execution": {
     "iopub.execute_input": "2025-01-30T22:27:50.334575Z",
     "iopub.status.busy": "2025-01-30T22:27:50.334385Z",
     "iopub.status.idle": "2025-01-30T22:27:50.337436Z",
     "shell.execute_reply": "2025-01-30T22:27:50.336889Z"
    },
    "lines_to_next_cell": 0,
    "nbsphinx": "hidden"
   },
   "outputs": [],
   "source": [
    "assert isinstance(loss_functions, pd.DataFrame)"
   ]
  },
  {
   "cell_type": "code",
   "execution_count": 8,
   "id": "6fb22989",
   "metadata": {
    "execution": {
     "iopub.execute_input": "2025-01-30T22:27:50.339437Z",
     "iopub.status.busy": "2025-01-30T22:27:50.338979Z",
     "iopub.status.idle": "2025-01-30T22:27:50.434362Z",
     "shell.execute_reply": "2025-01-30T22:27:50.433775Z"
    },
    "lines_to_next_cell": 0
   },
   "outputs": [],
   "source": [
    "asmnt.loss.load_model_parameters([loss_functions])\n",
    "asmnt.loss.calculate()\n",
    "\n",
    "loss, _ = asmnt.loss.aggregate_losses(future=True)"
   ]
  },
  {
   "cell_type": "code",
   "execution_count": 9,
   "id": "88c208df",
   "metadata": {
    "execution": {
     "iopub.execute_input": "2025-01-30T22:27:50.436640Z",
     "iopub.status.busy": "2025-01-30T22:27:50.436436Z",
     "iopub.status.idle": "2025-01-30T22:27:50.439623Z",
     "shell.execute_reply": "2025-01-30T22:27:50.439098Z"
    },
    "nbsphinx": "hidden"
   },
   "outputs": [],
   "source": [
    "assert isinstance(loss, pd.DataFrame)\n",
    "\n",
    "loss_vals = loss['repair_cost'].to_numpy()"
   ]
  },
  {
   "cell_type": "code",
   "execution_count": 10,
   "id": "6f87d283",
   "metadata": {
    "execution": {
     "iopub.execute_input": "2025-01-30T22:27:50.441425Z",
     "iopub.status.busy": "2025-01-30T22:27:50.441233Z",
     "iopub.status.idle": "2025-01-30T22:27:50.446893Z",
     "shell.execute_reply": "2025-01-30T22:27:50.446236Z"
    },
    "nbsphinx": "hidden"
   },
   "outputs": [],
   "source": [
    "# sample median should be close to 0.05\n",
    "assert np.allclose(np.median(loss_vals), 0.05, atol=1e-2)\n",
    "# dispersion should be close to 0.9\n",
    "assert np.allclose(np.log(loss_vals).std(), 0.90, atol=1e-2)"
   ]
  }
 ],
 "metadata": {
  "jupytext": {
   "cell_metadata_filter": "nbsphinx,-all",
   "main_language": "python",
   "notebook_metadata_filter": "-all",
   "text_representation": {
    "extension": ".py",
    "format_name": "percent"
   }
  },
  "language_info": {
   "codemirror_mode": {
    "name": "ipython",
    "version": 3
   },
   "file_extension": ".py",
   "mimetype": "text/x-python",
   "name": "python",
   "nbconvert_exporter": "python",
   "pygments_lexer": "ipython3",
   "version": "3.10.16"
  }
 },
 "nbformat": 4,
 "nbformat_minor": 5
}
