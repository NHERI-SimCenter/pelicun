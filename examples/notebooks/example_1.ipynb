{
 "cells": [
  {
   "cell_type": "markdown",
   "id": "4a917662",
   "metadata": {},
   "source": [
    "# Example 1: Simple loss function."
   ]
  },
  {
   "cell_type": "markdown",
   "id": "1f3cb8d1",
   "metadata": {
    "cell_marker": "\"\"\""
   },
   "source": [
    "In this example, a single loss function is defined as a 1:1 mapping of the input EDP.\n",
    "This means that the resulting loss distribution will be the same as the EDP distribution, allowing us to test and confirm that this is what happens."
   ]
  },
  {
   "cell_type": "code",
   "execution_count": 1,
   "id": "82f62689",
   "metadata": {
    "execution": {
     "iopub.execute_input": "2025-02-25T07:26:35.026366Z",
     "iopub.status.busy": "2025-02-25T07:26:35.026175Z",
     "iopub.status.idle": "2025-02-25T07:26:35.611316Z",
     "shell.execute_reply": "2025-02-25T07:26:35.610744Z"
    }
   },
   "outputs": [],
   "source": [
    "from __future__ import annotations\n",
    "\n",
    "import numpy as np\n",
    "import pandas as pd\n",
    "\n",
    "from pelicun import assessment, file_io"
   ]
  },
  {
   "cell_type": "code",
   "execution_count": 2,
   "id": "db5859f1",
   "metadata": {
    "execution": {
     "iopub.execute_input": "2025-02-25T07:26:35.614218Z",
     "iopub.status.busy": "2025-02-25T07:26:35.613707Z",
     "iopub.status.idle": "2025-02-25T07:26:35.617277Z",
     "shell.execute_reply": "2025-02-25T07:26:35.616640Z"
    }
   },
   "outputs": [],
   "source": [
    "sample_size = 100000"
   ]
  },
  {
   "cell_type": "code",
   "execution_count": 3,
   "id": "fd9d775a",
   "metadata": {
    "execution": {
     "iopub.execute_input": "2025-02-25T07:26:35.619218Z",
     "iopub.status.busy": "2025-02-25T07:26:35.619018Z",
     "iopub.status.idle": "2025-02-25T07:26:35.623444Z",
     "shell.execute_reply": "2025-02-25T07:26:35.622896Z"
    }
   },
   "outputs": [],
   "source": [
    "# initialize a pelicun assessment\n",
    "asmnt = assessment.Assessment({'PrintLog': False, 'Seed': 42})"
   ]
  },
  {
   "cell_type": "code",
   "execution_count": 4,
   "id": "f5a53a5b",
   "metadata": {
    "execution": {
     "iopub.execute_input": "2025-02-25T07:26:35.625327Z",
     "iopub.status.busy": "2025-02-25T07:26:35.625017Z",
     "iopub.status.idle": "2025-02-25T07:26:35.734978Z",
     "shell.execute_reply": "2025-02-25T07:26:35.734296Z"
    }
   },
   "outputs": [],
   "source": [
    "\n",
    "#\n",
    "# Demands\n",
    "#\n",
    "\n",
    "demands = pd.DataFrame(\n",
    "    {\n",
    "        'Theta_0': [0.50],\n",
    "        'Theta_1': [0.90],\n",
    "        'Family': ['lognormal'],\n",
    "        'Units': ['mps2'],\n",
    "    },\n",
    "    index=pd.MultiIndex.from_tuples(\n",
    "        [\n",
    "            ('PFA', '0', '1'),\n",
    "        ],\n",
    "    ),\n",
    ")\n",
    "\n",
    "asmnt.demand.load_model({'marginals': demands})\n",
    "\n",
    "asmnt.demand.generate_sample({'SampleSize': sample_size})\n",
    "\n",
    "#\n",
    "# Asset\n",
    "#\n",
    "\n",
    "asmnt.stories = 1\n",
    "\n",
    "cmp_marginals = pd.read_csv('example_1/CMP_marginals.csv', index_col=0)\n",
    "cmp_marginals['Blocks'] = cmp_marginals['Blocks']\n",
    "asmnt.asset.load_cmp_model({'marginals': cmp_marginals})\n",
    "\n",
    "asmnt.asset.generate_cmp_sample(sample_size)"
   ]
  },
  {
   "cell_type": "code",
   "execution_count": 5,
   "id": "19c8bf08",
   "metadata": {
    "execution": {
     "iopub.execute_input": "2025-02-25T07:26:35.737412Z",
     "iopub.status.busy": "2025-02-25T07:26:35.736851Z",
     "iopub.status.idle": "2025-02-25T07:26:35.739844Z",
     "shell.execute_reply": "2025-02-25T07:26:35.739181Z"
    }
   },
   "outputs": [],
   "source": [
    "#\n",
    "# Damage\n",
    "#\n",
    "\n",
    "# nothing to do here."
   ]
  },
  {
   "cell_type": "code",
   "execution_count": 6,
   "id": "fa13e3f2",
   "metadata": {
    "execution": {
     "iopub.execute_input": "2025-02-25T07:26:35.741800Z",
     "iopub.status.busy": "2025-02-25T07:26:35.741383Z",
     "iopub.status.idle": "2025-02-25T07:26:35.751501Z",
     "shell.execute_reply": "2025-02-25T07:26:35.750977Z"
    },
    "lines_to_next_cell": 0
   },
   "outputs": [],
   "source": [
    "#\n",
    "# Losses\n",
    "#\n",
    "\n",
    "asmnt.loss.decision_variables = ('Cost',)\n",
    "\n",
    "loss_map = pd.DataFrame(['cmp.A'], columns=['Repair'], index=['cmp.A'])\n",
    "asmnt.loss.add_loss_map(loss_map)\n",
    "\n",
    "loss_functions = file_io.load_data(\n",
    "    'example_1/loss_functions.csv',\n",
    "    reindex=False,\n",
    "    unit_conversion_factors=asmnt.unit_conversion_factors,\n",
    ")"
   ]
  },
  {
   "cell_type": "code",
   "execution_count": 7,
   "id": "9b649199",
   "metadata": {
    "execution": {
     "iopub.execute_input": "2025-02-25T07:26:35.753238Z",
     "iopub.status.busy": "2025-02-25T07:26:35.753045Z",
     "iopub.status.idle": "2025-02-25T07:26:35.756087Z",
     "shell.execute_reply": "2025-02-25T07:26:35.755541Z"
    },
    "lines_to_next_cell": 0,
    "nbsphinx": "hidden"
   },
   "outputs": [],
   "source": [
    "assert isinstance(loss_functions, pd.DataFrame)"
   ]
  },
  {
   "cell_type": "code",
   "execution_count": 8,
   "id": "913ca0f3",
   "metadata": {
    "execution": {
     "iopub.execute_input": "2025-02-25T07:26:35.758122Z",
     "iopub.status.busy": "2025-02-25T07:26:35.757748Z",
     "iopub.status.idle": "2025-02-25T07:26:35.850335Z",
     "shell.execute_reply": "2025-02-25T07:26:35.849792Z"
    },
    "lines_to_next_cell": 0
   },
   "outputs": [],
   "source": [
    "asmnt.loss.load_model_parameters([loss_functions])\n",
    "asmnt.loss.calculate()\n",
    "\n",
    "loss, _ = asmnt.loss.aggregate_losses(future=True)"
   ]
  },
  {
   "cell_type": "code",
   "execution_count": 9,
   "id": "63475ea1",
   "metadata": {
    "execution": {
     "iopub.execute_input": "2025-02-25T07:26:35.852613Z",
     "iopub.status.busy": "2025-02-25T07:26:35.852214Z",
     "iopub.status.idle": "2025-02-25T07:26:35.855283Z",
     "shell.execute_reply": "2025-02-25T07:26:35.854767Z"
    },
    "nbsphinx": "hidden"
   },
   "outputs": [],
   "source": [
    "assert isinstance(loss, pd.DataFrame)\n",
    "\n",
    "loss_vals = loss['repair_cost'].to_numpy()"
   ]
  },
  {
   "cell_type": "code",
   "execution_count": 10,
   "id": "315707ab",
   "metadata": {
    "execution": {
     "iopub.execute_input": "2025-02-25T07:26:35.857312Z",
     "iopub.status.busy": "2025-02-25T07:26:35.856918Z",
     "iopub.status.idle": "2025-02-25T07:26:35.862058Z",
     "shell.execute_reply": "2025-02-25T07:26:35.861527Z"
    },
    "nbsphinx": "hidden"
   },
   "outputs": [],
   "source": [
    "# sample median should be close to 0.05\n",
    "assert np.allclose(np.median(loss_vals), 0.05, atol=1e-2)\n",
    "# dispersion should be close to 0.9\n",
    "assert np.allclose(np.log(loss_vals).std(), 0.90, atol=1e-2)"
   ]
  }
 ],
 "metadata": {
  "jupytext": {
   "cell_metadata_filter": "nbsphinx,-all",
   "main_language": "python",
   "notebook_metadata_filter": "-all",
   "text_representation": {
    "extension": ".py",
    "format_name": "percent"
   }
  },
  "language_info": {
   "codemirror_mode": {
    "name": "ipython",
    "version": 3
   },
   "file_extension": ".py",
   "mimetype": "text/x-python",
   "name": "python",
   "nbconvert_exporter": "python",
   "pygments_lexer": "ipython3",
   "version": "3.10.16"
  }
 },
 "nbformat": 4,
 "nbformat_minor": 5
}
