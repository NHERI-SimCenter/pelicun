{
 "cells": [
  {
   "cell_type": "markdown",
   "id": "2a06b533",
   "metadata": {},
   "source": [
    "# Example 1: Simple loss function."
   ]
  },
  {
   "cell_type": "markdown",
   "id": "78fbbe1d",
   "metadata": {
    "cell_marker": "\"\"\""
   },
   "source": [
    "In this example, a single loss function is defined as a 1:1 mapping of the input EDP.\n",
    "This means that the resulting loss distribution will be the same as the EDP distribution, allowing us to test and confirm that this is what happens."
   ]
  },
  {
   "cell_type": "code",
   "execution_count": 1,
   "id": "2fa5b537",
   "metadata": {
    "execution": {
     "iopub.execute_input": "2025-08-08T00:44:03.548790Z",
     "iopub.status.busy": "2025-08-08T00:44:03.548490Z",
     "iopub.status.idle": "2025-08-08T00:44:04.161976Z",
     "shell.execute_reply": "2025-08-08T00:44:04.161358Z"
    }
   },
   "outputs": [],
   "source": [
    "from __future__ import annotations\n",
    "\n",
    "import numpy as np\n",
    "import pandas as pd\n",
    "\n",
    "from pelicun import assessment, file_io"
   ]
  },
  {
   "cell_type": "code",
   "execution_count": 2,
   "id": "3426197a",
   "metadata": {
    "execution": {
     "iopub.execute_input": "2025-08-08T00:44:04.164147Z",
     "iopub.status.busy": "2025-08-08T00:44:04.163912Z",
     "iopub.status.idle": "2025-08-08T00:44:04.166572Z",
     "shell.execute_reply": "2025-08-08T00:44:04.166053Z"
    }
   },
   "outputs": [],
   "source": [
    "sample_size = 100000"
   ]
  },
  {
   "cell_type": "code",
   "execution_count": 3,
   "id": "b82f1d38",
   "metadata": {
    "execution": {
     "iopub.execute_input": "2025-08-08T00:44:04.168342Z",
     "iopub.status.busy": "2025-08-08T00:44:04.168143Z",
     "iopub.status.idle": "2025-08-08T00:44:04.172501Z",
     "shell.execute_reply": "2025-08-08T00:44:04.171857Z"
    }
   },
   "outputs": [],
   "source": [
    "# initialize a pelicun assessment\n",
    "asmnt = assessment.Assessment({'PrintLog': False, 'Seed': 42})"
   ]
  },
  {
   "cell_type": "code",
   "execution_count": 4,
   "id": "18d19a78",
   "metadata": {
    "execution": {
     "iopub.execute_input": "2025-08-08T00:44:04.174306Z",
     "iopub.status.busy": "2025-08-08T00:44:04.174127Z",
     "iopub.status.idle": "2025-08-08T00:44:04.234508Z",
     "shell.execute_reply": "2025-08-08T00:44:04.233963Z"
    }
   },
   "outputs": [],
   "source": [
    "\n",
    "#\n",
    "# Demands\n",
    "#\n",
    "\n",
    "demands = pd.DataFrame(\n",
    "    {\n",
    "        'Theta_0': [0.50],\n",
    "        'Theta_1': [0.90],\n",
    "        'Family': ['lognormal'],\n",
    "        'Units': ['mps2'],\n",
    "    },\n",
    "    index=pd.MultiIndex.from_tuples(\n",
    "        [\n",
    "            ('PFA', '0', '1'),\n",
    "        ],\n",
    "    ),\n",
    ")\n",
    "\n",
    "asmnt.demand.load_model({'marginals': demands})\n",
    "\n",
    "asmnt.demand.generate_sample({'SampleSize': sample_size})\n",
    "\n",
    "#\n",
    "# Asset\n",
    "#\n",
    "\n",
    "asmnt.stories = 1\n",
    "\n",
    "cmp_marginals = pd.read_csv('example_1/CMP_marginals.csv', index_col=0)\n",
    "cmp_marginals['Blocks'] = cmp_marginals['Blocks']\n",
    "asmnt.asset.load_cmp_model({'marginals': cmp_marginals})\n",
    "\n",
    "asmnt.asset.generate_cmp_sample(sample_size)"
   ]
  },
  {
   "cell_type": "code",
   "execution_count": 5,
   "id": "77498f5a",
   "metadata": {
    "execution": {
     "iopub.execute_input": "2025-08-08T00:44:04.236530Z",
     "iopub.status.busy": "2025-08-08T00:44:04.236325Z",
     "iopub.status.idle": "2025-08-08T00:44:04.238835Z",
     "shell.execute_reply": "2025-08-08T00:44:04.238267Z"
    }
   },
   "outputs": [],
   "source": [
    "#\n",
    "# Damage\n",
    "#\n",
    "\n",
    "# nothing to do here."
   ]
  },
  {
   "cell_type": "code",
   "execution_count": 6,
   "id": "27710466",
   "metadata": {
    "execution": {
     "iopub.execute_input": "2025-08-08T00:44:04.240521Z",
     "iopub.status.busy": "2025-08-08T00:44:04.240346Z",
     "iopub.status.idle": "2025-08-08T00:44:04.250541Z",
     "shell.execute_reply": "2025-08-08T00:44:04.250033Z"
    },
    "lines_to_next_cell": 0
   },
   "outputs": [],
   "source": [
    "#\n",
    "# Losses\n",
    "#\n",
    "\n",
    "asmnt.loss.decision_variables = ('Cost',)\n",
    "\n",
    "loss_map = pd.DataFrame(['cmp.A'], columns=['Repair'], index=['cmp.A'])\n",
    "asmnt.loss.add_loss_map(loss_map)\n",
    "\n",
    "loss_functions = file_io.load_data(\n",
    "    'example_1/loss_functions.csv',\n",
    "    reindex=False,\n",
    "    unit_conversion_factors=asmnt.unit_conversion_factors,\n",
    ")"
   ]
  },
  {
   "cell_type": "code",
   "execution_count": 7,
   "id": "be3e89dc",
   "metadata": {
    "execution": {
     "iopub.execute_input": "2025-08-08T00:44:04.252310Z",
     "iopub.status.busy": "2025-08-08T00:44:04.252122Z",
     "iopub.status.idle": "2025-08-08T00:44:04.254843Z",
     "shell.execute_reply": "2025-08-08T00:44:04.254299Z"
    },
    "lines_to_next_cell": 0,
    "nbsphinx": "hidden"
   },
   "outputs": [],
   "source": [
    "assert isinstance(loss_functions, pd.DataFrame)"
   ]
  },
  {
   "cell_type": "code",
   "execution_count": 8,
   "id": "331b4bba",
   "metadata": {
    "execution": {
     "iopub.execute_input": "2025-08-08T00:44:04.256515Z",
     "iopub.status.busy": "2025-08-08T00:44:04.256337Z",
     "iopub.status.idle": "2025-08-08T00:44:04.348973Z",
     "shell.execute_reply": "2025-08-08T00:44:04.348338Z"
    },
    "lines_to_next_cell": 0
   },
   "outputs": [],
   "source": [
    "asmnt.loss.load_model_parameters([loss_functions])\n",
    "asmnt.loss.calculate()\n",
    "\n",
    "loss, _ = asmnt.loss.aggregate_losses(future=True)"
   ]
  },
  {
   "cell_type": "code",
   "execution_count": 9,
   "id": "df9f24a0",
   "metadata": {
    "execution": {
     "iopub.execute_input": "2025-08-08T00:44:04.351175Z",
     "iopub.status.busy": "2025-08-08T00:44:04.350979Z",
     "iopub.status.idle": "2025-08-08T00:44:04.353992Z",
     "shell.execute_reply": "2025-08-08T00:44:04.353448Z"
    },
    "nbsphinx": "hidden"
   },
   "outputs": [],
   "source": [
    "assert isinstance(loss, pd.DataFrame)\n",
    "\n",
    "loss_vals = loss['repair_cost'].to_numpy()"
   ]
  },
  {
   "cell_type": "code",
   "execution_count": 10,
   "id": "15deda36",
   "metadata": {
    "execution": {
     "iopub.execute_input": "2025-08-08T00:44:04.355744Z",
     "iopub.status.busy": "2025-08-08T00:44:04.355537Z",
     "iopub.status.idle": "2025-08-08T00:44:04.360505Z",
     "shell.execute_reply": "2025-08-08T00:44:04.360003Z"
    },
    "nbsphinx": "hidden"
   },
   "outputs": [],
   "source": [
    "# sample median should be close to 0.05\n",
    "assert np.allclose(np.median(loss_vals), 0.05, atol=1e-2)\n",
    "# dispersion should be close to 0.9\n",
    "assert np.allclose(np.log(loss_vals).std(), 0.90, atol=1e-2)"
   ]
  }
 ],
 "metadata": {
  "jupytext": {
   "cell_metadata_filter": "nbsphinx,-all",
   "main_language": "python",
   "notebook_metadata_filter": "-all",
   "text_representation": {
    "extension": ".py",
    "format_name": "percent"
   }
  },
  "language_info": {
   "codemirror_mode": {
    "name": "ipython",
    "version": 3
   },
   "file_extension": ".py",
   "mimetype": "text/x-python",
   "name": "python",
   "nbconvert_exporter": "python",
   "pygments_lexer": "ipython3",
   "version": "3.10.18"
  }
 },
 "nbformat": 4,
 "nbformat_minor": 5
}
