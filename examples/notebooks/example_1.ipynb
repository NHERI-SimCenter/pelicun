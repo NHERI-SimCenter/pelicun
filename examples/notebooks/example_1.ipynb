{
 "cells": [
  {
   "cell_type": "markdown",
   "id": "e2dd5bed",
   "metadata": {},
   "source": [
    "# Example 1: Simple loss function."
   ]
  },
  {
   "cell_type": "markdown",
   "id": "2cc7f9f3",
   "metadata": {
    "cell_marker": "\"\"\""
   },
   "source": [
    "In this example, a single loss function is defined as a 1:1 mapping of the input EDP.\n",
    "This means that the resulting loss distribution will be the same as the EDP distribution, allowing us to test and confirm that this is what happens."
   ]
  },
  {
   "cell_type": "code",
   "execution_count": 1,
   "id": "136833e4",
   "metadata": {
    "execution": {
     "iopub.execute_input": "2025-08-08T03:41:53.372921Z",
     "iopub.status.busy": "2025-08-08T03:41:53.372723Z",
     "iopub.status.idle": "2025-08-08T03:41:53.987300Z",
     "shell.execute_reply": "2025-08-08T03:41:53.986541Z"
    }
   },
   "outputs": [],
   "source": [
    "from __future__ import annotations\n",
    "\n",
    "import numpy as np\n",
    "import pandas as pd\n",
    "\n",
    "from pelicun import assessment, file_io"
   ]
  },
  {
   "cell_type": "code",
   "execution_count": 2,
   "id": "41bf9648",
   "metadata": {
    "execution": {
     "iopub.execute_input": "2025-08-08T03:41:53.989910Z",
     "iopub.status.busy": "2025-08-08T03:41:53.989608Z",
     "iopub.status.idle": "2025-08-08T03:41:53.992661Z",
     "shell.execute_reply": "2025-08-08T03:41:53.992086Z"
    }
   },
   "outputs": [],
   "source": [
    "sample_size = 100000"
   ]
  },
  {
   "cell_type": "code",
   "execution_count": 3,
   "id": "076971c8",
   "metadata": {
    "execution": {
     "iopub.execute_input": "2025-08-08T03:41:53.994501Z",
     "iopub.status.busy": "2025-08-08T03:41:53.994302Z",
     "iopub.status.idle": "2025-08-08T03:41:53.998555Z",
     "shell.execute_reply": "2025-08-08T03:41:53.998022Z"
    }
   },
   "outputs": [],
   "source": [
    "# initialize a pelicun assessment\n",
    "asmnt = assessment.Assessment({'PrintLog': False, 'Seed': 42})"
   ]
  },
  {
   "cell_type": "code",
   "execution_count": 4,
   "id": "10142f1b",
   "metadata": {
    "execution": {
     "iopub.execute_input": "2025-08-08T03:41:54.000265Z",
     "iopub.status.busy": "2025-08-08T03:41:54.000085Z",
     "iopub.status.idle": "2025-08-08T03:41:54.065430Z",
     "shell.execute_reply": "2025-08-08T03:41:54.064762Z"
    }
   },
   "outputs": [],
   "source": [
    "\n",
    "#\n",
    "# Demands\n",
    "#\n",
    "\n",
    "demands = pd.DataFrame(\n",
    "    {\n",
    "        'Theta_0': [0.50],\n",
    "        'Theta_1': [0.90],\n",
    "        'Family': ['lognormal'],\n",
    "        'Units': ['mps2'],\n",
    "    },\n",
    "    index=pd.MultiIndex.from_tuples(\n",
    "        [\n",
    "            ('PFA', '0', '1'),\n",
    "        ],\n",
    "    ),\n",
    ")\n",
    "\n",
    "asmnt.demand.load_model({'marginals': demands})\n",
    "\n",
    "asmnt.demand.generate_sample({'SampleSize': sample_size})\n",
    "\n",
    "#\n",
    "# Asset\n",
    "#\n",
    "\n",
    "asmnt.stories = 1\n",
    "\n",
    "cmp_marginals = pd.read_csv('example_1/CMP_marginals.csv', index_col=0)\n",
    "cmp_marginals['Blocks'] = cmp_marginals['Blocks']\n",
    "asmnt.asset.load_cmp_model({'marginals': cmp_marginals})\n",
    "\n",
    "asmnt.asset.generate_cmp_sample(sample_size)"
   ]
  },
  {
   "cell_type": "code",
   "execution_count": 5,
   "id": "780ae758",
   "metadata": {
    "execution": {
     "iopub.execute_input": "2025-08-08T03:41:54.067572Z",
     "iopub.status.busy": "2025-08-08T03:41:54.067360Z",
     "iopub.status.idle": "2025-08-08T03:41:54.070186Z",
     "shell.execute_reply": "2025-08-08T03:41:54.069593Z"
    }
   },
   "outputs": [],
   "source": [
    "#\n",
    "# Damage\n",
    "#\n",
    "\n",
    "# nothing to do here."
   ]
  },
  {
   "cell_type": "code",
   "execution_count": 6,
   "id": "db54d3d0",
   "metadata": {
    "execution": {
     "iopub.execute_input": "2025-08-08T03:41:54.071916Z",
     "iopub.status.busy": "2025-08-08T03:41:54.071727Z",
     "iopub.status.idle": "2025-08-08T03:41:54.082323Z",
     "shell.execute_reply": "2025-08-08T03:41:54.081648Z"
    },
    "lines_to_next_cell": 0
   },
   "outputs": [],
   "source": [
    "#\n",
    "# Losses\n",
    "#\n",
    "\n",
    "asmnt.loss.decision_variables = ('Cost',)\n",
    "\n",
    "loss_map = pd.DataFrame(['cmp.A'], columns=['Repair'], index=['cmp.A'])\n",
    "asmnt.loss.add_loss_map(loss_map)\n",
    "\n",
    "loss_functions = file_io.load_data(\n",
    "    'example_1/loss_functions.csv',\n",
    "    reindex=False,\n",
    "    unit_conversion_factors=asmnt.unit_conversion_factors,\n",
    ")"
   ]
  },
  {
   "cell_type": "code",
   "execution_count": 7,
   "id": "ba70b3ef",
   "metadata": {
    "execution": {
     "iopub.execute_input": "2025-08-08T03:41:54.084080Z",
     "iopub.status.busy": "2025-08-08T03:41:54.083886Z",
     "iopub.status.idle": "2025-08-08T03:41:54.086652Z",
     "shell.execute_reply": "2025-08-08T03:41:54.086121Z"
    },
    "lines_to_next_cell": 0,
    "nbsphinx": "hidden"
   },
   "outputs": [],
   "source": [
    "assert isinstance(loss_functions, pd.DataFrame)"
   ]
  },
  {
   "cell_type": "code",
   "execution_count": 8,
   "id": "34d482b3",
   "metadata": {
    "execution": {
     "iopub.execute_input": "2025-08-08T03:41:54.088411Z",
     "iopub.status.busy": "2025-08-08T03:41:54.088221Z",
     "iopub.status.idle": "2025-08-08T03:41:54.184724Z",
     "shell.execute_reply": "2025-08-08T03:41:54.183977Z"
    },
    "lines_to_next_cell": 0
   },
   "outputs": [],
   "source": [
    "asmnt.loss.load_model_parameters([loss_functions])\n",
    "asmnt.loss.calculate()\n",
    "\n",
    "loss, _ = asmnt.loss.aggregate_losses(future=True)"
   ]
  },
  {
   "cell_type": "code",
   "execution_count": 9,
   "id": "d60d8245",
   "metadata": {
    "execution": {
     "iopub.execute_input": "2025-08-08T03:41:54.187130Z",
     "iopub.status.busy": "2025-08-08T03:41:54.186915Z",
     "iopub.status.idle": "2025-08-08T03:41:54.190194Z",
     "shell.execute_reply": "2025-08-08T03:41:54.189554Z"
    },
    "nbsphinx": "hidden"
   },
   "outputs": [],
   "source": [
    "assert isinstance(loss, pd.DataFrame)\n",
    "\n",
    "loss_vals = loss['repair_cost'].to_numpy()"
   ]
  },
  {
   "cell_type": "code",
   "execution_count": 10,
   "id": "21513776",
   "metadata": {
    "execution": {
     "iopub.execute_input": "2025-08-08T03:41:54.192056Z",
     "iopub.status.busy": "2025-08-08T03:41:54.191864Z",
     "iopub.status.idle": "2025-08-08T03:41:54.197196Z",
     "shell.execute_reply": "2025-08-08T03:41:54.196534Z"
    },
    "nbsphinx": "hidden"
   },
   "outputs": [],
   "source": [
    "# sample median should be close to 0.05\n",
    "assert np.allclose(np.median(loss_vals), 0.05, atol=1e-2)\n",
    "# dispersion should be close to 0.9\n",
    "assert np.allclose(np.log(loss_vals).std(), 0.90, atol=1e-2)"
   ]
  }
 ],
 "metadata": {
  "jupytext": {
   "cell_metadata_filter": "nbsphinx,-all",
   "main_language": "python",
   "notebook_metadata_filter": "-all",
   "text_representation": {
    "extension": ".py",
    "format_name": "percent"
   }
  },
  "language_info": {
   "codemirror_mode": {
    "name": "ipython",
    "version": 3
   },
   "file_extension": ".py",
   "mimetype": "text/x-python",
   "name": "python",
   "nbconvert_exporter": "python",
   "pygments_lexer": "ipython3",
   "version": "3.10.18"
  }
 },
 "nbformat": 4,
 "nbformat_minor": 5
}
