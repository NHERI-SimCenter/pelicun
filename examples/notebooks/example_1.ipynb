{
 "cells": [
  {
   "cell_type": "markdown",
   "id": "6a9d7282",
   "metadata": {},
   "source": [
    "# Example 1: Simple loss function."
   ]
  },
  {
   "cell_type": "markdown",
   "id": "7ee0fd0d",
   "metadata": {
    "cell_marker": "\"\"\""
   },
   "source": [
    "In this example, a single loss function is defined as a 1:1 mapping of the input EDP.\n",
    "This means that the resulting loss distribution will be the same as the EDP distribution, allowing us to test and confirm that this is what happens."
   ]
  },
  {
   "cell_type": "code",
   "execution_count": 1,
   "id": "0a774941",
   "metadata": {
    "execution": {
     "iopub.execute_input": "2025-01-30T22:25:43.905414Z",
     "iopub.status.busy": "2025-01-30T22:25:43.905222Z",
     "iopub.status.idle": "2025-01-30T22:25:44.531442Z",
     "shell.execute_reply": "2025-01-30T22:25:44.530659Z"
    }
   },
   "outputs": [],
   "source": [
    "from __future__ import annotations\n",
    "\n",
    "import numpy as np\n",
    "import pandas as pd\n",
    "\n",
    "from pelicun import assessment, file_io"
   ]
  },
  {
   "cell_type": "code",
   "execution_count": 2,
   "id": "2106d16b",
   "metadata": {
    "execution": {
     "iopub.execute_input": "2025-01-30T22:25:44.534024Z",
     "iopub.status.busy": "2025-01-30T22:25:44.533723Z",
     "iopub.status.idle": "2025-01-30T22:25:44.536876Z",
     "shell.execute_reply": "2025-01-30T22:25:44.536340Z"
    }
   },
   "outputs": [],
   "source": [
    "sample_size = 100000"
   ]
  },
  {
   "cell_type": "code",
   "execution_count": 3,
   "id": "3a1b4a43",
   "metadata": {
    "execution": {
     "iopub.execute_input": "2025-01-30T22:25:44.538815Z",
     "iopub.status.busy": "2025-01-30T22:25:44.538612Z",
     "iopub.status.idle": "2025-01-30T22:25:44.543091Z",
     "shell.execute_reply": "2025-01-30T22:25:44.542438Z"
    }
   },
   "outputs": [],
   "source": [
    "# initialize a pelicun assessment\n",
    "asmnt = assessment.Assessment({'PrintLog': False, 'Seed': 42})"
   ]
  },
  {
   "cell_type": "code",
   "execution_count": 4,
   "id": "c3f1a40f",
   "metadata": {
    "execution": {
     "iopub.execute_input": "2025-01-30T22:25:44.545230Z",
     "iopub.status.busy": "2025-01-30T22:25:44.544864Z",
     "iopub.status.idle": "2025-01-30T22:25:44.616527Z",
     "shell.execute_reply": "2025-01-30T22:25:44.615726Z"
    }
   },
   "outputs": [],
   "source": [
    "\n",
    "#\n",
    "# Demands\n",
    "#\n",
    "\n",
    "demands = pd.DataFrame(\n",
    "    {\n",
    "        'Theta_0': [0.50],\n",
    "        'Theta_1': [0.90],\n",
    "        'Family': ['lognormal'],\n",
    "        'Units': ['mps2'],\n",
    "    },\n",
    "    index=pd.MultiIndex.from_tuples(\n",
    "        [\n",
    "            ('PFA', '0', '1'),\n",
    "        ],\n",
    "    ),\n",
    ")\n",
    "\n",
    "asmnt.demand.load_model({'marginals': demands})\n",
    "\n",
    "asmnt.demand.generate_sample({'SampleSize': sample_size})\n",
    "\n",
    "#\n",
    "# Asset\n",
    "#\n",
    "\n",
    "asmnt.stories = 1\n",
    "\n",
    "cmp_marginals = pd.read_csv('example_1/CMP_marginals.csv', index_col=0)\n",
    "cmp_marginals['Blocks'] = cmp_marginals['Blocks']\n",
    "asmnt.asset.load_cmp_model({'marginals': cmp_marginals})\n",
    "\n",
    "asmnt.asset.generate_cmp_sample(sample_size)"
   ]
  },
  {
   "cell_type": "code",
   "execution_count": 5,
   "id": "de27f342",
   "metadata": {
    "execution": {
     "iopub.execute_input": "2025-01-30T22:25:44.619290Z",
     "iopub.status.busy": "2025-01-30T22:25:44.618842Z",
     "iopub.status.idle": "2025-01-30T22:25:44.621948Z",
     "shell.execute_reply": "2025-01-30T22:25:44.621397Z"
    }
   },
   "outputs": [],
   "source": [
    "#\n",
    "# Damage\n",
    "#\n",
    "\n",
    "# nothing to do here."
   ]
  },
  {
   "cell_type": "code",
   "execution_count": 6,
   "id": "75bc5a27",
   "metadata": {
    "execution": {
     "iopub.execute_input": "2025-01-30T22:25:44.623827Z",
     "iopub.status.busy": "2025-01-30T22:25:44.623637Z",
     "iopub.status.idle": "2025-01-30T22:25:44.634485Z",
     "shell.execute_reply": "2025-01-30T22:25:44.633939Z"
    },
    "lines_to_next_cell": 0
   },
   "outputs": [],
   "source": [
    "#\n",
    "# Losses\n",
    "#\n",
    "\n",
    "asmnt.loss.decision_variables = ('Cost',)\n",
    "\n",
    "loss_map = pd.DataFrame(['cmp.A'], columns=['Repair'], index=['cmp.A'])\n",
    "asmnt.loss.add_loss_map(loss_map)\n",
    "\n",
    "loss_functions = file_io.load_data(\n",
    "    'example_1/loss_functions.csv',\n",
    "    reindex=False,\n",
    "    unit_conversion_factors=asmnt.unit_conversion_factors,\n",
    ")"
   ]
  },
  {
   "cell_type": "code",
   "execution_count": 7,
   "id": "5f7d1858",
   "metadata": {
    "execution": {
     "iopub.execute_input": "2025-01-30T22:25:44.636362Z",
     "iopub.status.busy": "2025-01-30T22:25:44.636169Z",
     "iopub.status.idle": "2025-01-30T22:25:44.639305Z",
     "shell.execute_reply": "2025-01-30T22:25:44.638723Z"
    },
    "lines_to_next_cell": 0,
    "nbsphinx": "hidden"
   },
   "outputs": [],
   "source": [
    "assert isinstance(loss_functions, pd.DataFrame)"
   ]
  },
  {
   "cell_type": "code",
   "execution_count": 8,
   "id": "49beabf1",
   "metadata": {
    "execution": {
     "iopub.execute_input": "2025-01-30T22:25:44.640967Z",
     "iopub.status.busy": "2025-01-30T22:25:44.640781Z",
     "iopub.status.idle": "2025-01-30T22:25:44.734227Z",
     "shell.execute_reply": "2025-01-30T22:25:44.733491Z"
    },
    "lines_to_next_cell": 0
   },
   "outputs": [],
   "source": [
    "asmnt.loss.load_model_parameters([loss_functions])\n",
    "asmnt.loss.calculate()\n",
    "\n",
    "loss, _ = asmnt.loss.aggregate_losses(future=True)"
   ]
  },
  {
   "cell_type": "code",
   "execution_count": 9,
   "id": "5d38a01f",
   "metadata": {
    "execution": {
     "iopub.execute_input": "2025-01-30T22:25:44.736863Z",
     "iopub.status.busy": "2025-01-30T22:25:44.736353Z",
     "iopub.status.idle": "2025-01-30T22:25:44.739795Z",
     "shell.execute_reply": "2025-01-30T22:25:44.739171Z"
    },
    "nbsphinx": "hidden"
   },
   "outputs": [],
   "source": [
    "assert isinstance(loss, pd.DataFrame)\n",
    "\n",
    "loss_vals = loss['repair_cost'].to_numpy()"
   ]
  },
  {
   "cell_type": "code",
   "execution_count": 10,
   "id": "324dab3b",
   "metadata": {
    "execution": {
     "iopub.execute_input": "2025-01-30T22:25:44.741857Z",
     "iopub.status.busy": "2025-01-30T22:25:44.741479Z",
     "iopub.status.idle": "2025-01-30T22:25:44.747382Z",
     "shell.execute_reply": "2025-01-30T22:25:44.746825Z"
    },
    "nbsphinx": "hidden"
   },
   "outputs": [],
   "source": [
    "# sample median should be close to 0.05\n",
    "assert np.allclose(np.median(loss_vals), 0.05, atol=1e-2)\n",
    "# dispersion should be close to 0.9\n",
    "assert np.allclose(np.log(loss_vals).std(), 0.90, atol=1e-2)"
   ]
  }
 ],
 "metadata": {
  "jupytext": {
   "cell_metadata_filter": "nbsphinx,-all",
   "main_language": "python",
   "notebook_metadata_filter": "-all",
   "text_representation": {
    "extension": ".py",
    "format_name": "percent"
   }
  },
  "language_info": {
   "codemirror_mode": {
    "name": "ipython",
    "version": 3
   },
   "file_extension": ".py",
   "mimetype": "text/x-python",
   "name": "python",
   "nbconvert_exporter": "python",
   "pygments_lexer": "ipython3",
   "version": "3.10.16"
  }
 },
 "nbformat": 4,
 "nbformat_minor": 5
}
