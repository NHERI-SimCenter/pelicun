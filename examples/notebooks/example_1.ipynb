{
 "cells": [
  {
   "cell_type": "markdown",
   "id": "22aae72f",
   "metadata": {},
   "source": [
    "# Example 1: Simple loss function."
   ]
  },
  {
   "cell_type": "markdown",
   "id": "f552554e",
   "metadata": {
    "cell_marker": "\"\"\""
   },
   "source": [
    "In this example, a single loss function is defined as a 1:1 mapping of the input EDP.\n",
    "This means that the resulting loss distribution will be the same as the EDP distribution, allowing us to test and confirm that this is what happens."
   ]
  },
  {
   "cell_type": "code",
   "execution_count": 1,
   "id": "cb203d64",
   "metadata": {
    "execution": {
     "iopub.execute_input": "2025-05-17T03:49:34.692679Z",
     "iopub.status.busy": "2025-05-17T03:49:34.692483Z",
     "iopub.status.idle": "2025-05-17T03:49:35.294883Z",
     "shell.execute_reply": "2025-05-17T03:49:35.294281Z"
    }
   },
   "outputs": [],
   "source": [
    "from __future__ import annotations\n",
    "\n",
    "import numpy as np\n",
    "import pandas as pd\n",
    "\n",
    "from pelicun import assessment, file_io"
   ]
  },
  {
   "cell_type": "code",
   "execution_count": 2,
   "id": "36832644",
   "metadata": {
    "execution": {
     "iopub.execute_input": "2025-05-17T03:49:35.297165Z",
     "iopub.status.busy": "2025-05-17T03:49:35.296900Z",
     "iopub.status.idle": "2025-05-17T03:49:35.299979Z",
     "shell.execute_reply": "2025-05-17T03:49:35.299431Z"
    }
   },
   "outputs": [],
   "source": [
    "sample_size = 100000"
   ]
  },
  {
   "cell_type": "code",
   "execution_count": 3,
   "id": "c325c199",
   "metadata": {
    "execution": {
     "iopub.execute_input": "2025-05-17T03:49:35.301656Z",
     "iopub.status.busy": "2025-05-17T03:49:35.301461Z",
     "iopub.status.idle": "2025-05-17T03:49:35.305696Z",
     "shell.execute_reply": "2025-05-17T03:49:35.305204Z"
    }
   },
   "outputs": [],
   "source": [
    "# initialize a pelicun assessment\n",
    "asmnt = assessment.Assessment({'PrintLog': False, 'Seed': 42})"
   ]
  },
  {
   "cell_type": "code",
   "execution_count": 4,
   "id": "0fcfdfb6",
   "metadata": {
    "execution": {
     "iopub.execute_input": "2025-05-17T03:49:35.307662Z",
     "iopub.status.busy": "2025-05-17T03:49:35.307305Z",
     "iopub.status.idle": "2025-05-17T03:49:35.369606Z",
     "shell.execute_reply": "2025-05-17T03:49:35.369021Z"
    }
   },
   "outputs": [],
   "source": [
    "\n",
    "#\n",
    "# Demands\n",
    "#\n",
    "\n",
    "demands = pd.DataFrame(\n",
    "    {\n",
    "        'Theta_0': [0.50],\n",
    "        'Theta_1': [0.90],\n",
    "        'Family': ['lognormal'],\n",
    "        'Units': ['mps2'],\n",
    "    },\n",
    "    index=pd.MultiIndex.from_tuples(\n",
    "        [\n",
    "            ('PFA', '0', '1'),\n",
    "        ],\n",
    "    ),\n",
    ")\n",
    "\n",
    "asmnt.demand.load_model({'marginals': demands})\n",
    "\n",
    "asmnt.demand.generate_sample({'SampleSize': sample_size})\n",
    "\n",
    "#\n",
    "# Asset\n",
    "#\n",
    "\n",
    "asmnt.stories = 1\n",
    "\n",
    "cmp_marginals = pd.read_csv('example_1/CMP_marginals.csv', index_col=0)\n",
    "cmp_marginals['Blocks'] = cmp_marginals['Blocks']\n",
    "asmnt.asset.load_cmp_model({'marginals': cmp_marginals})\n",
    "\n",
    "asmnt.asset.generate_cmp_sample(sample_size)"
   ]
  },
  {
   "cell_type": "code",
   "execution_count": 5,
   "id": "0befc977",
   "metadata": {
    "execution": {
     "iopub.execute_input": "2025-05-17T03:49:35.371850Z",
     "iopub.status.busy": "2025-05-17T03:49:35.371471Z",
     "iopub.status.idle": "2025-05-17T03:49:35.374371Z",
     "shell.execute_reply": "2025-05-17T03:49:35.373831Z"
    }
   },
   "outputs": [],
   "source": [
    "#\n",
    "# Damage\n",
    "#\n",
    "\n",
    "# nothing to do here."
   ]
  },
  {
   "cell_type": "code",
   "execution_count": 6,
   "id": "dea00cc0",
   "metadata": {
    "execution": {
     "iopub.execute_input": "2025-05-17T03:49:35.376128Z",
     "iopub.status.busy": "2025-05-17T03:49:35.375941Z",
     "iopub.status.idle": "2025-05-17T03:49:35.386029Z",
     "shell.execute_reply": "2025-05-17T03:49:35.385503Z"
    },
    "lines_to_next_cell": 0
   },
   "outputs": [],
   "source": [
    "#\n",
    "# Losses\n",
    "#\n",
    "\n",
    "asmnt.loss.decision_variables = ('Cost',)\n",
    "\n",
    "loss_map = pd.DataFrame(['cmp.A'], columns=['Repair'], index=['cmp.A'])\n",
    "asmnt.loss.add_loss_map(loss_map)\n",
    "\n",
    "loss_functions = file_io.load_data(\n",
    "    'example_1/loss_functions.csv',\n",
    "    reindex=False,\n",
    "    unit_conversion_factors=asmnt.unit_conversion_factors,\n",
    ")"
   ]
  },
  {
   "cell_type": "code",
   "execution_count": 7,
   "id": "4e94e073",
   "metadata": {
    "execution": {
     "iopub.execute_input": "2025-05-17T03:49:35.387940Z",
     "iopub.status.busy": "2025-05-17T03:49:35.387545Z",
     "iopub.status.idle": "2025-05-17T03:49:35.390416Z",
     "shell.execute_reply": "2025-05-17T03:49:35.389896Z"
    },
    "lines_to_next_cell": 0,
    "nbsphinx": "hidden"
   },
   "outputs": [],
   "source": [
    "assert isinstance(loss_functions, pd.DataFrame)"
   ]
  },
  {
   "cell_type": "code",
   "execution_count": 8,
   "id": "d6f088a2",
   "metadata": {
    "execution": {
     "iopub.execute_input": "2025-05-17T03:49:35.392223Z",
     "iopub.status.busy": "2025-05-17T03:49:35.391886Z",
     "iopub.status.idle": "2025-05-17T03:49:35.483991Z",
     "shell.execute_reply": "2025-05-17T03:49:35.483358Z"
    },
    "lines_to_next_cell": 0
   },
   "outputs": [],
   "source": [
    "asmnt.loss.load_model_parameters([loss_functions])\n",
    "asmnt.loss.calculate()\n",
    "\n",
    "loss, _ = asmnt.loss.aggregate_losses(future=True)"
   ]
  },
  {
   "cell_type": "code",
   "execution_count": 9,
   "id": "a8291701",
   "metadata": {
    "execution": {
     "iopub.execute_input": "2025-05-17T03:49:35.486248Z",
     "iopub.status.busy": "2025-05-17T03:49:35.485865Z",
     "iopub.status.idle": "2025-05-17T03:49:35.489202Z",
     "shell.execute_reply": "2025-05-17T03:49:35.488648Z"
    },
    "nbsphinx": "hidden"
   },
   "outputs": [],
   "source": [
    "assert isinstance(loss, pd.DataFrame)\n",
    "\n",
    "loss_vals = loss['repair_cost'].to_numpy()"
   ]
  },
  {
   "cell_type": "code",
   "execution_count": 10,
   "id": "f956bba8",
   "metadata": {
    "execution": {
     "iopub.execute_input": "2025-05-17T03:49:35.491052Z",
     "iopub.status.busy": "2025-05-17T03:49:35.490676Z",
     "iopub.status.idle": "2025-05-17T03:49:35.496074Z",
     "shell.execute_reply": "2025-05-17T03:49:35.495421Z"
    },
    "nbsphinx": "hidden"
   },
   "outputs": [],
   "source": [
    "# sample median should be close to 0.05\n",
    "assert np.allclose(np.median(loss_vals), 0.05, atol=1e-2)\n",
    "# dispersion should be close to 0.9\n",
    "assert np.allclose(np.log(loss_vals).std(), 0.90, atol=1e-2)"
   ]
  }
 ],
 "metadata": {
  "jupytext": {
   "cell_metadata_filter": "nbsphinx,-all",
   "main_language": "python",
   "notebook_metadata_filter": "-all",
   "text_representation": {
    "extension": ".py",
    "format_name": "percent"
   }
  },
  "language_info": {
   "codemirror_mode": {
    "name": "ipython",
    "version": 3
   },
   "file_extension": ".py",
   "mimetype": "text/x-python",
   "name": "python",
   "nbconvert_exporter": "python",
   "pygments_lexer": "ipython3",
   "version": "3.10.17"
  }
 },
 "nbformat": 4,
 "nbformat_minor": 5
}
