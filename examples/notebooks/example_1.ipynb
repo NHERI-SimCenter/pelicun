{
 "cells": [
  {
   "cell_type": "markdown",
   "id": "964b3853",
   "metadata": {},
   "source": [
    "# Example 1: Simple loss function."
   ]
  },
  {
   "cell_type": "markdown",
   "id": "c987eadc",
   "metadata": {
    "cell_marker": "\"\"\""
   },
   "source": [
    "In this example, a single loss function is defined as a 1:1 mapping of the input EDP.\n",
    "This means that the resulting loss distribution will be the same as the EDP distribution, allowing us to test and confirm that this is what happens."
   ]
  },
  {
   "cell_type": "code",
   "execution_count": 1,
   "id": "f6f00260",
   "metadata": {
    "execution": {
     "iopub.execute_input": "2025-01-09T18:05:28.756891Z",
     "iopub.status.busy": "2025-01-09T18:05:28.756687Z",
     "iopub.status.idle": "2025-01-09T18:05:29.366986Z",
     "shell.execute_reply": "2025-01-09T18:05:29.366279Z"
    }
   },
   "outputs": [],
   "source": [
    "from __future__ import annotations\n",
    "\n",
    "import numpy as np\n",
    "import pandas as pd\n",
    "\n",
    "from pelicun import assessment, file_io"
   ]
  },
  {
   "cell_type": "code",
   "execution_count": 2,
   "id": "f999c953",
   "metadata": {
    "execution": {
     "iopub.execute_input": "2025-01-09T18:05:29.369552Z",
     "iopub.status.busy": "2025-01-09T18:05:29.369078Z",
     "iopub.status.idle": "2025-01-09T18:05:29.372137Z",
     "shell.execute_reply": "2025-01-09T18:05:29.371592Z"
    }
   },
   "outputs": [],
   "source": [
    "sample_size = 100000"
   ]
  },
  {
   "cell_type": "code",
   "execution_count": 3,
   "id": "5857a890",
   "metadata": {
    "execution": {
     "iopub.execute_input": "2025-01-09T18:05:29.373893Z",
     "iopub.status.busy": "2025-01-09T18:05:29.373700Z",
     "iopub.status.idle": "2025-01-09T18:05:29.378031Z",
     "shell.execute_reply": "2025-01-09T18:05:29.377387Z"
    }
   },
   "outputs": [],
   "source": [
    "# initialize a pelicun assessment\n",
    "asmnt = assessment.Assessment({'PrintLog': False, 'Seed': 42})"
   ]
  },
  {
   "cell_type": "code",
   "execution_count": 4,
   "id": "0d636e53",
   "metadata": {
    "execution": {
     "iopub.execute_input": "2025-01-09T18:05:29.379943Z",
     "iopub.status.busy": "2025-01-09T18:05:29.379747Z",
     "iopub.status.idle": "2025-01-09T18:05:29.454731Z",
     "shell.execute_reply": "2025-01-09T18:05:29.454116Z"
    }
   },
   "outputs": [],
   "source": [
    "\n",
    "#\n",
    "# Demands\n",
    "#\n",
    "\n",
    "demands = pd.DataFrame(\n",
    "    {\n",
    "        'Theta_0': [0.50],\n",
    "        'Theta_1': [0.90],\n",
    "        'Family': ['lognormal'],\n",
    "        'Units': ['mps2'],\n",
    "    },\n",
    "    index=pd.MultiIndex.from_tuples(\n",
    "        [\n",
    "            ('PFA', '0', '1'),\n",
    "        ],\n",
    "    ),\n",
    ")\n",
    "\n",
    "asmnt.demand.load_model({'marginals': demands})\n",
    "\n",
    "asmnt.demand.generate_sample({'SampleSize': sample_size})\n",
    "\n",
    "#\n",
    "# Asset\n",
    "#\n",
    "\n",
    "asmnt.stories = 1\n",
    "\n",
    "cmp_marginals = pd.read_csv('example_1/CMP_marginals.csv', index_col=0)\n",
    "cmp_marginals['Blocks'] = cmp_marginals['Blocks']\n",
    "asmnt.asset.load_cmp_model({'marginals': cmp_marginals})\n",
    "\n",
    "asmnt.asset.generate_cmp_sample(sample_size)"
   ]
  },
  {
   "cell_type": "code",
   "execution_count": 5,
   "id": "49816aed",
   "metadata": {
    "execution": {
     "iopub.execute_input": "2025-01-09T18:05:29.457288Z",
     "iopub.status.busy": "2025-01-09T18:05:29.456858Z",
     "iopub.status.idle": "2025-01-09T18:05:29.459666Z",
     "shell.execute_reply": "2025-01-09T18:05:29.459122Z"
    }
   },
   "outputs": [],
   "source": [
    "#\n",
    "# Damage\n",
    "#\n",
    "\n",
    "# nothing to do here."
   ]
  },
  {
   "cell_type": "code",
   "execution_count": 6,
   "id": "4e1e5f97",
   "metadata": {
    "execution": {
     "iopub.execute_input": "2025-01-09T18:05:29.461655Z",
     "iopub.status.busy": "2025-01-09T18:05:29.461278Z",
     "iopub.status.idle": "2025-01-09T18:05:29.471814Z",
     "shell.execute_reply": "2025-01-09T18:05:29.471128Z"
    },
    "lines_to_next_cell": 0
   },
   "outputs": [],
   "source": [
    "#\n",
    "# Losses\n",
    "#\n",
    "\n",
    "asmnt.loss.decision_variables = ('Cost',)\n",
    "\n",
    "loss_map = pd.DataFrame(['cmp.A'], columns=['Repair'], index=['cmp.A'])\n",
    "asmnt.loss.add_loss_map(loss_map)\n",
    "\n",
    "loss_functions = file_io.load_data(\n",
    "    'example_1/loss_functions.csv',\n",
    "    reindex=False,\n",
    "    unit_conversion_factors=asmnt.unit_conversion_factors,\n",
    ")"
   ]
  },
  {
   "cell_type": "code",
   "execution_count": 7,
   "id": "269522f5",
   "metadata": {
    "execution": {
     "iopub.execute_input": "2025-01-09T18:05:29.473837Z",
     "iopub.status.busy": "2025-01-09T18:05:29.473473Z",
     "iopub.status.idle": "2025-01-09T18:05:29.476640Z",
     "shell.execute_reply": "2025-01-09T18:05:29.475970Z"
    },
    "lines_to_next_cell": 0,
    "nbsphinx": "hidden"
   },
   "outputs": [],
   "source": [
    "assert isinstance(loss_functions, pd.DataFrame)"
   ]
  },
  {
   "cell_type": "code",
   "execution_count": 8,
   "id": "b266e6f6",
   "metadata": {
    "execution": {
     "iopub.execute_input": "2025-01-09T18:05:29.478626Z",
     "iopub.status.busy": "2025-01-09T18:05:29.478167Z",
     "iopub.status.idle": "2025-01-09T18:05:29.573267Z",
     "shell.execute_reply": "2025-01-09T18:05:29.572665Z"
    },
    "lines_to_next_cell": 0
   },
   "outputs": [],
   "source": [
    "asmnt.loss.load_model_parameters([loss_functions])\n",
    "asmnt.loss.calculate()\n",
    "\n",
    "loss, _ = asmnt.loss.aggregate_losses(future=True)"
   ]
  },
  {
   "cell_type": "code",
   "execution_count": 9,
   "id": "34ba5f9f",
   "metadata": {
    "execution": {
     "iopub.execute_input": "2025-01-09T18:05:29.575612Z",
     "iopub.status.busy": "2025-01-09T18:05:29.575402Z",
     "iopub.status.idle": "2025-01-09T18:05:29.578534Z",
     "shell.execute_reply": "2025-01-09T18:05:29.577983Z"
    },
    "nbsphinx": "hidden"
   },
   "outputs": [],
   "source": [
    "assert isinstance(loss, pd.DataFrame)\n",
    "\n",
    "loss_vals = loss['repair_cost'].to_numpy()"
   ]
  },
  {
   "cell_type": "code",
   "execution_count": 10,
   "id": "e461b4d4",
   "metadata": {
    "execution": {
     "iopub.execute_input": "2025-01-09T18:05:29.580532Z",
     "iopub.status.busy": "2025-01-09T18:05:29.580160Z",
     "iopub.status.idle": "2025-01-09T18:05:29.585326Z",
     "shell.execute_reply": "2025-01-09T18:05:29.584770Z"
    },
    "nbsphinx": "hidden"
   },
   "outputs": [],
   "source": [
    "# sample median should be close to 0.05\n",
    "assert np.allclose(np.median(loss_vals), 0.05, atol=1e-2)\n",
    "# dispersion should be close to 0.9\n",
    "assert np.allclose(np.log(loss_vals).std(), 0.90, atol=1e-2)"
   ]
  }
 ],
 "metadata": {
  "jupytext": {
   "cell_metadata_filter": "nbsphinx,-all",
   "main_language": "python",
   "notebook_metadata_filter": "-all",
   "text_representation": {
    "extension": ".py",
    "format_name": "percent"
   }
  },
  "language_info": {
   "codemirror_mode": {
    "name": "ipython",
    "version": 3
   },
   "file_extension": ".py",
   "mimetype": "text/x-python",
   "name": "python",
   "nbconvert_exporter": "python",
   "pygments_lexer": "ipython3",
   "version": "3.10.16"
  }
 },
 "nbformat": 4,
 "nbformat_minor": 5
}
