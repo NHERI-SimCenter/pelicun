{
 "cells": [
  {
   "cell_type": "markdown",
   "id": "56bd8be6",
   "metadata": {
    "cell_marker": "r\"\"\""
   },
   "source": [
    "# Example 2: Damage state validation.\n",
    "\n",
    "Validation test for the probability of each damage state of a\n",
    "component.\n",
    "\n",
    "Here we test whether we get the correct damage state probabilities for\n",
    "a single component with two damage states.\n",
    "For such a component, assuming the EDP demand and the fragility curve\n",
    "capacities are all lognormal, there is a closed-form solution for the\n",
    "probability of each damage state.\n",
    "We utilize those equations to ensure that the probabilities obtained\n",
    "from our Monte-Carlo sample are in line with our expectations.\n",
    "\n",
    "If $\\mathrm{Y} \\sim \\textrm{LogNormal}(\\delta, \\beta)$,\n",
    "then  $\\mathrm{X} = \\log(\\mathrm{Y}) \\sim \\textrm{Normal}(\\mu, \\sigma)$ with\n",
    "$\\mu = \\log(\\delta)$ and $\\sigma = \\beta$.\n",
    "\n",
    "$$\n",
    "\\begin{align*}\n",
    "\\mathrm{P}(\\mathrm{DS}=0) &= 1 - \\Phi\\left(\\frac{\\log(\\delta_D) - \\log(\\delta_{C1})}{\\sqrt{\\beta_{D}^2 + \\beta_{C1}^2}}\\right), \\\\\n",
    "\\mathrm{P}(\\mathrm{DS}=1) &= \\Phi\\left(\\frac{\\log(\\delta_D) - \\log(\\delta_{C1})}{\\sqrt{\\beta_D^2 + \\beta_{C1}^2}}\\right) - \\Phi\\left(\\frac{\\log(\\delta_{D}) - \\log(\\delta_{C2})}{\\sqrt{\\beta_D^2 + \\beta_{C2}^2}}\\right), \\\\\n",
    "\\mathrm{P}(\\mathrm{DS}=2) &= \\Phi\\left(\\frac{\\log(\\delta_D) - \\log(\\delta_{C2})}{\\sqrt{\\beta_D^2 + \\beta_{C2}^2}}\\right), \\\\\n",
    "\\end{align*}\n",
    "$$\n",
    "where $\\Phi$ is the cumulative distribution function of the standard normal distribution,\n",
    "$\\delta_{C1}$, $\\delta_{C2}$, $\\beta_{C1}$, $\\beta_{C2}$ are the medians and dispersions of the\n",
    "fragility curve capacities, and $\\delta_{D}$, $\\beta_{D}$ is\n",
    "the median and dispersion of the EDP demand.\n",
    "\n",
    "The equations inherently assume that the capacity RVs for the damage\n",
    "states are perfectly correlated, which is the case for sequential\n",
    "damage states."
   ]
  },
  {
   "cell_type": "code",
   "execution_count": 1,
   "id": "ec0e7b56",
   "metadata": {
    "execution": {
     "iopub.execute_input": "2024-12-13T19:17:47.540738Z",
     "iopub.status.busy": "2024-12-13T19:17:47.540214Z",
     "iopub.status.idle": "2024-12-13T19:17:48.089802Z",
     "shell.execute_reply": "2024-12-13T19:17:48.089118Z"
    }
   },
   "outputs": [],
   "source": [
    "from __future__ import annotations\n",
    "\n",
    "import tempfile\n",
    "\n",
    "import numpy as np\n",
    "import pandas as pd\n",
    "from scipy.stats import norm  # type: ignore\n",
    "\n",
    "from pelicun import assessment, file_io"
   ]
  },
  {
   "cell_type": "code",
   "execution_count": 2,
   "id": "16a5adc4",
   "metadata": {
    "execution": {
     "iopub.execute_input": "2024-12-13T19:17:48.092441Z",
     "iopub.status.busy": "2024-12-13T19:17:48.091884Z",
     "iopub.status.idle": "2024-12-13T19:17:48.096268Z",
     "shell.execute_reply": "2024-12-13T19:17:48.095665Z"
    }
   },
   "outputs": [],
   "source": [
    "sample_size = 1000000\n",
    "\n",
    "asmnt = assessment.Assessment({'PrintLog': False, 'Seed': 42})"
   ]
  },
  {
   "cell_type": "code",
   "execution_count": 3,
   "id": "071a2a19",
   "metadata": {
    "execution": {
     "iopub.execute_input": "2024-12-13T19:17:48.098302Z",
     "iopub.status.busy": "2024-12-13T19:17:48.097890Z",
     "iopub.status.idle": "2024-12-13T19:17:48.183391Z",
     "shell.execute_reply": "2024-12-13T19:17:48.182781Z"
    }
   },
   "outputs": [],
   "source": [
    "#\n",
    "# Demands\n",
    "#\n",
    "\n",
    "demands = pd.DataFrame(\n",
    "    {\n",
    "        'Theta_0': [0.015],\n",
    "        'Theta_1': [0.60],\n",
    "        'Family': ['lognormal'],\n",
    "        'Units': ['rad'],\n",
    "    },\n",
    "    index=pd.MultiIndex.from_tuples(\n",
    "        [\n",
    "            ('PID', '1', '1'),\n",
    "        ],\n",
    "    ),\n",
    ")\n",
    "\n",
    "# load the demand model\n",
    "asmnt.demand.load_model({'marginals': demands})\n",
    "\n",
    "# generate samples\n",
    "asmnt.demand.generate_sample({'SampleSize': sample_size})"
   ]
  },
  {
   "cell_type": "code",
   "execution_count": 4,
   "id": "b213ea04",
   "metadata": {
    "execution": {
     "iopub.execute_input": "2024-12-13T19:17:48.185716Z",
     "iopub.status.busy": "2024-12-13T19:17:48.185350Z",
     "iopub.status.idle": "2024-12-13T19:17:48.236427Z",
     "shell.execute_reply": "2024-12-13T19:17:48.235707Z"
    }
   },
   "outputs": [],
   "source": [
    "#\n",
    "# Asset\n",
    "#\n",
    "\n",
    "# specify number of stories\n",
    "asmnt.stories = 1\n",
    "\n",
    "# load component definitions\n",
    "cmp_marginals = pd.read_csv('example_2/CMP_marginals.csv', index_col=0)\n",
    "cmp_marginals['Blocks'] = cmp_marginals['Blocks']\n",
    "asmnt.asset.load_cmp_model({'marginals': cmp_marginals})\n",
    "\n",
    "# generate sample\n",
    "asmnt.asset.generate_cmp_sample(sample_size)"
   ]
  },
  {
   "cell_type": "code",
   "execution_count": 5,
   "id": "9cd071f8",
   "metadata": {
    "execution": {
     "iopub.execute_input": "2024-12-13T19:17:48.238932Z",
     "iopub.status.busy": "2024-12-13T19:17:48.238563Z",
     "iopub.status.idle": "2024-12-13T19:17:48.707107Z",
     "shell.execute_reply": "2024-12-13T19:17:48.706388Z"
    }
   },
   "outputs": [],
   "source": [
    "#\n",
    "# Damage\n",
    "#\n",
    "\n",
    "damage_db = file_io.load_data(\n",
    "    'example_2/damage_db.csv',\n",
    "    reindex=False,\n",
    "    unit_conversion_factors=asmnt.unit_conversion_factors,\n",
    ")\n",
    "assert isinstance(damage_db, pd.DataFrame)\n",
    "\n",
    "cmp_set = set(asmnt.asset.list_unique_component_ids())\n",
    "\n",
    "# load the models into pelicun\n",
    "asmnt.damage.load_model_parameters([damage_db], cmp_set)\n",
    "\n",
    "# calculate damages\n",
    "asmnt.damage.calculate()\n",
    "\n",
    "probs = asmnt.damage.ds_model.probabilities()"
   ]
  },
  {
   "cell_type": "code",
   "execution_count": 6,
   "id": "5ca3ae7e",
   "metadata": {
    "execution": {
     "iopub.execute_input": "2024-12-13T19:17:48.709371Z",
     "iopub.status.busy": "2024-12-13T19:17:48.709160Z",
     "iopub.status.idle": "2024-12-13T19:17:48.716124Z",
     "shell.execute_reply": "2024-12-13T19:17:48.715494Z"
    }
   },
   "outputs": [],
   "source": [
    "#\n",
    "# Analytical calculation of the probability of each damage state\n",
    "#\n",
    "\n",
    "demand_median = 0.015\n",
    "demand_beta = 0.60\n",
    "capacity_1_median = 0.015\n",
    "capacity_2_median = 0.02\n",
    "capacity_beta = 0.50\n",
    "\n",
    "# If Y is LogNormal(delta, beta), then X = Log(Y) is Normal(mu, sigma)\n",
    "# with mu = log(delta) and sigma = beta\n",
    "demand_mean = np.log(demand_median)\n",
    "capacity_1_mean = np.log(capacity_1_median)\n",
    "capacity_2_mean = np.log(capacity_2_median)\n",
    "demand_std = demand_beta\n",
    "capacity_std = capacity_beta\n",
    "\n",
    "p0 = 1.00 - norm.cdf(\n",
    "    (demand_mean - capacity_1_mean) / np.sqrt(demand_std**2 + capacity_std**2)\n",
    ")\n",
    "p1 = norm.cdf(\n",
    "    (demand_mean - capacity_1_mean) / np.sqrt(demand_std**2 + capacity_std**2)\n",
    ") - norm.cdf(\n",
    "    (demand_mean - capacity_2_mean) / np.sqrt(demand_std**2 + capacity_std**2)\n",
    ")\n",
    "p2 = norm.cdf(\n",
    "    (demand_mean - capacity_2_mean) / np.sqrt(demand_std**2 + capacity_std**2)\n",
    ")\n",
    "\n",
    "assert np.allclose(probs.iloc[0, 0], p0, atol=1e-2)  # type: ignore\n",
    "assert np.allclose(probs.iloc[0, 1], p1, atol=1e-2)  # type: ignore\n",
    "assert np.allclose(probs.iloc[0, 2], p2, atol=1e-2)  # type: ignore"
   ]
  },
  {
   "cell_type": "code",
   "execution_count": 7,
   "id": "e36d4a7d",
   "metadata": {
    "execution": {
     "iopub.execute_input": "2024-12-13T19:17:48.718120Z",
     "iopub.status.busy": "2024-12-13T19:17:48.717807Z",
     "iopub.status.idle": "2024-12-13T19:17:48.736628Z",
     "shell.execute_reply": "2024-12-13T19:17:48.736116Z"
    },
    "nbsphinx": "hidden"
   },
   "outputs": [],
   "source": [
    "#\n",
    "# Also test load/save sample\n",
    "#\n",
    "\n",
    "assert asmnt.damage.ds_model.sample is not None\n",
    "asmnt.damage.ds_model.sample = asmnt.damage.ds_model.sample.iloc[0:100, :]\n",
    "# (we reduce the number of realizations to conserve resources)\n",
    "before = asmnt.damage.ds_model.sample.copy()\n",
    "temp_dir = tempfile.mkdtemp()\n",
    "asmnt.damage.save_sample(f'{temp_dir}/mdl.csv')\n",
    "asmnt.damage.load_sample(f'{temp_dir}/mdl.csv')\n",
    "pd.testing.assert_frame_equal(before, asmnt.damage.ds_model.sample)"
   ]
  }
 ],
 "metadata": {
  "jupytext": {
   "cell_metadata_filter": "nbsphinx,-all",
   "main_language": "python",
   "notebook_metadata_filter": "-all",
   "text_representation": {
    "extension": ".py",
    "format_name": "percent"
   }
  },
  "language_info": {
   "codemirror_mode": {
    "name": "ipython",
    "version": 3
   },
   "file_extension": ".py",
   "mimetype": "text/x-python",
   "name": "python",
   "nbconvert_exporter": "python",
   "pygments_lexer": "ipython3",
   "version": "3.10.15"
  }
 },
 "nbformat": 4,
 "nbformat_minor": 5
}
