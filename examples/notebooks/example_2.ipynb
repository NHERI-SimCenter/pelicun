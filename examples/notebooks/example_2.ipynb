{
 "cells": [
  {
   "cell_type": "markdown",
   "id": "49f40f71",
   "metadata": {
    "cell_marker": "r\"\"\""
   },
   "source": [
    "# Example 2: Damage state validation.\n",
    "\n",
    "Validation test for the probability of each damage state of a\n",
    "component.\n",
    "\n",
    "Here we test whether we get the correct damage state probabilities for\n",
    "a single component with two damage states.\n",
    "For such a component, assuming the EDP demand and the fragility curve\n",
    "capacities are all lognormal, there is a closed-form solution for the\n",
    "probability of each damage state.\n",
    "We utilize those equations to ensure that the probabilities obtained\n",
    "from our Monte-Carlo sample are in line with our expectations.\n",
    "\n",
    "If $\\mathrm{Y} \\sim \\textrm{LogNormal}(\\delta, \\beta)$,\n",
    "then  $\\mathrm{X} = \\log(\\mathrm{Y}) \\sim \\textrm{Normal}(\\mu, \\sigma)$ with\n",
    "$\\mu = \\log(\\delta)$ and $\\sigma = \\beta$.\n",
    "\n",
    "$$\n",
    "\\begin{align*}\n",
    "\\mathrm{P}(\\mathrm{DS}=0) &= 1 - \\Phi\\left(\\frac{\\log(\\delta_D) - \\log(\\delta_{C1})}{\\sqrt{\\beta_{D}^2 + \\beta_{C1}^2}}\\right), \\\\\n",
    "\\mathrm{P}(\\mathrm{DS}=1) &= \\Phi\\left(\\frac{\\log(\\delta_D) - \\log(\\delta_{C1})}{\\sqrt{\\beta_D^2 + \\beta_{C1}^2}}\\right) - \\Phi\\left(\\frac{\\log(\\delta_{D}) - \\log(\\delta_{C2})}{\\sqrt{\\beta_D^2 + \\beta_{C2}^2}}\\right), \\\\\n",
    "\\mathrm{P}(\\mathrm{DS}=2) &= \\Phi\\left(\\frac{\\log(\\delta_D) - \\log(\\delta_{C2})}{\\sqrt{\\beta_D^2 + \\beta_{C2}^2}}\\right), \\\\\n",
    "\\end{align*}\n",
    "$$\n",
    "where $\\Phi$ is the cumulative distribution function of the standard normal distribution,\n",
    "$\\delta_{C1}$, $\\delta_{C2}$, $\\beta_{C1}$, $\\beta_{C2}$ are the medians and dispersions of the\n",
    "fragility curve capacities, and $\\delta_{D}$, $\\beta_{D}$ is\n",
    "the median and dispersion of the EDP demand.\n",
    "\n",
    "The equations inherently assume that the capacity RVs for the damage\n",
    "states are perfectly correlated, which is the case for sequential\n",
    "damage states."
   ]
  },
  {
   "cell_type": "code",
   "execution_count": 1,
   "id": "d87df098",
   "metadata": {
    "execution": {
     "iopub.execute_input": "2025-09-15T19:55:43.465407Z",
     "iopub.status.busy": "2025-09-15T19:55:43.465122Z",
     "iopub.status.idle": "2025-09-15T19:55:44.110982Z",
     "shell.execute_reply": "2025-09-15T19:55:44.110398Z"
    }
   },
   "outputs": [
    {
     "name": "stdout",
     "output_type": "stream",
     "text": [
      "DLML data update available. Current version: None, Latest version: v2.1.0. Update with: pelicun dlml update"
     ]
    },
    {
     "name": "stdout",
     "output_type": "stream",
     "text": [
      "\n"
     ]
    },
    {
     "name": "stderr",
     "output_type": "stream",
     "text": [
      "/home/runner/work/pelicun/pelicun/pelicun/__init__.py:61: PelicunWarning: DLML data update available. Current version: None, Latest version: v2.1.0. Update with: pelicun dlml update\n",
      "  check_dlml_data()\n"
     ]
    }
   ],
   "source": [
    "from __future__ import annotations\n",
    "\n",
    "import tempfile\n",
    "\n",
    "import numpy as np\n",
    "import pandas as pd\n",
    "from scipy.stats import norm  # type: ignore\n",
    "\n",
    "from pelicun import assessment, file_io"
   ]
  },
  {
   "cell_type": "code",
   "execution_count": 2,
   "id": "9dcdb827",
   "metadata": {
    "execution": {
     "iopub.execute_input": "2025-09-15T19:55:44.113009Z",
     "iopub.status.busy": "2025-09-15T19:55:44.112722Z",
     "iopub.status.idle": "2025-09-15T19:55:44.117054Z",
     "shell.execute_reply": "2025-09-15T19:55:44.116495Z"
    }
   },
   "outputs": [],
   "source": [
    "sample_size = 1000000\n",
    "\n",
    "asmnt = assessment.Assessment({'PrintLog': False, 'Seed': 42})"
   ]
  },
  {
   "cell_type": "code",
   "execution_count": 3,
   "id": "e7c0366f",
   "metadata": {
    "execution": {
     "iopub.execute_input": "2025-09-15T19:55:44.118747Z",
     "iopub.status.busy": "2025-09-15T19:55:44.118558Z",
     "iopub.status.idle": "2025-09-15T19:55:44.200562Z",
     "shell.execute_reply": "2025-09-15T19:55:44.199821Z"
    }
   },
   "outputs": [],
   "source": [
    "#\n",
    "# Demands\n",
    "#\n",
    "\n",
    "demands = pd.DataFrame(\n",
    "    {\n",
    "        'Theta_0': [0.015],\n",
    "        'Theta_1': [0.60],\n",
    "        'Family': ['lognormal'],\n",
    "        'Units': ['rad'],\n",
    "    },\n",
    "    index=pd.MultiIndex.from_tuples(\n",
    "        [\n",
    "            ('PID', '1', '1'),\n",
    "        ],\n",
    "    ),\n",
    ")\n",
    "\n",
    "# load the demand model\n",
    "asmnt.demand.load_model({'marginals': demands})\n",
    "\n",
    "# generate samples\n",
    "asmnt.demand.generate_sample({'SampleSize': sample_size})"
   ]
  },
  {
   "cell_type": "code",
   "execution_count": 4,
   "id": "8ad4accc",
   "metadata": {
    "execution": {
     "iopub.execute_input": "2025-09-15T19:55:44.202997Z",
     "iopub.status.busy": "2025-09-15T19:55:44.202761Z",
     "iopub.status.idle": "2025-09-15T19:55:44.252807Z",
     "shell.execute_reply": "2025-09-15T19:55:44.252164Z"
    }
   },
   "outputs": [],
   "source": [
    "#\n",
    "# Asset\n",
    "#\n",
    "\n",
    "# specify number of stories\n",
    "asmnt.stories = 1\n",
    "\n",
    "# load component definitions\n",
    "cmp_marginals = pd.read_csv('example_2/CMP_marginals.csv', index_col=0)\n",
    "cmp_marginals['Blocks'] = cmp_marginals['Blocks']\n",
    "asmnt.asset.load_cmp_model({'marginals': cmp_marginals})\n",
    "\n",
    "# generate sample\n",
    "asmnt.asset.generate_cmp_sample(sample_size)"
   ]
  },
  {
   "cell_type": "code",
   "execution_count": 5,
   "id": "b03e32c3",
   "metadata": {
    "execution": {
     "iopub.execute_input": "2025-09-15T19:55:44.255042Z",
     "iopub.status.busy": "2025-09-15T19:55:44.254844Z",
     "iopub.status.idle": "2025-09-15T19:55:44.719609Z",
     "shell.execute_reply": "2025-09-15T19:55:44.718993Z"
    }
   },
   "outputs": [],
   "source": [
    "#\n",
    "# Damage\n",
    "#\n",
    "\n",
    "damage_db = file_io.load_data(\n",
    "    'example_2/damage_db.csv',\n",
    "    reindex=False,\n",
    "    unit_conversion_factors=asmnt.unit_conversion_factors,\n",
    ")\n",
    "assert isinstance(damage_db, pd.DataFrame)\n",
    "\n",
    "cmp_set = set(asmnt.asset.list_unique_component_ids())\n",
    "\n",
    "# load the models into pelicun\n",
    "asmnt.damage.load_model_parameters([damage_db], cmp_set)\n",
    "\n",
    "# calculate damages\n",
    "asmnt.damage.calculate()\n",
    "\n",
    "probs = asmnt.damage.ds_model.probabilities()"
   ]
  },
  {
   "cell_type": "code",
   "execution_count": 6,
   "id": "103fec79",
   "metadata": {
    "execution": {
     "iopub.execute_input": "2025-09-15T19:55:44.721889Z",
     "iopub.status.busy": "2025-09-15T19:55:44.721649Z",
     "iopub.status.idle": "2025-09-15T19:55:44.728347Z",
     "shell.execute_reply": "2025-09-15T19:55:44.727809Z"
    }
   },
   "outputs": [],
   "source": [
    "#\n",
    "# Analytical calculation of the probability of each damage state\n",
    "#\n",
    "\n",
    "demand_median = 0.015\n",
    "demand_beta = 0.60\n",
    "capacity_1_median = 0.015\n",
    "capacity_2_median = 0.02\n",
    "capacity_beta = 0.50\n",
    "\n",
    "# If Y is LogNormal(delta, beta), then X = Log(Y) is Normal(mu, sigma)\n",
    "# with mu = log(delta) and sigma = beta\n",
    "demand_mean = np.log(demand_median)\n",
    "capacity_1_mean = np.log(capacity_1_median)\n",
    "capacity_2_mean = np.log(capacity_2_median)\n",
    "demand_std = demand_beta\n",
    "capacity_std = capacity_beta\n",
    "\n",
    "p0 = 1.00 - norm.cdf(\n",
    "    (demand_mean - capacity_1_mean) / np.sqrt(demand_std**2 + capacity_std**2)\n",
    ")\n",
    "p1 = norm.cdf(\n",
    "    (demand_mean - capacity_1_mean) / np.sqrt(demand_std**2 + capacity_std**2)\n",
    ") - norm.cdf(\n",
    "    (demand_mean - capacity_2_mean) / np.sqrt(demand_std**2 + capacity_std**2)\n",
    ")\n",
    "p2 = norm.cdf(\n",
    "    (demand_mean - capacity_2_mean) / np.sqrt(demand_std**2 + capacity_std**2)\n",
    ")\n",
    "\n",
    "assert np.allclose(probs.iloc[0, 0], p0, atol=1e-2)  # type: ignore\n",
    "assert np.allclose(probs.iloc[0, 1], p1, atol=1e-2)  # type: ignore\n",
    "assert np.allclose(probs.iloc[0, 2], p2, atol=1e-2)  # type: ignore"
   ]
  },
  {
   "cell_type": "code",
   "execution_count": 7,
   "id": "047e9b81",
   "metadata": {
    "execution": {
     "iopub.execute_input": "2025-09-15T19:55:44.730124Z",
     "iopub.status.busy": "2025-09-15T19:55:44.729930Z",
     "iopub.status.idle": "2025-09-15T19:55:44.748955Z",
     "shell.execute_reply": "2025-09-15T19:55:44.748414Z"
    },
    "nbsphinx": "hidden"
   },
   "outputs": [],
   "source": [
    "#\n",
    "# Also test load/save sample\n",
    "#\n",
    "\n",
    "assert asmnt.damage.ds_model.sample is not None\n",
    "asmnt.damage.ds_model.sample = asmnt.damage.ds_model.sample.iloc[0:100, :]\n",
    "# (we reduce the number of realizations to conserve resources)\n",
    "before = asmnt.damage.ds_model.sample.copy()\n",
    "temp_dir = tempfile.mkdtemp()\n",
    "asmnt.damage.save_sample(f'{temp_dir}/mdl.csv')\n",
    "asmnt.damage.load_sample(f'{temp_dir}/mdl.csv')\n",
    "pd.testing.assert_frame_equal(before, asmnt.damage.ds_model.sample)"
   ]
  }
 ],
 "metadata": {
  "jupytext": {
   "cell_metadata_filter": "nbsphinx,-all",
   "main_language": "python",
   "notebook_metadata_filter": "-all",
   "text_representation": {
    "extension": ".py",
    "format_name": "percent"
   }
  },
  "language_info": {
   "codemirror_mode": {
    "name": "ipython",
    "version": 3
   },
   "file_extension": ".py",
   "mimetype": "text/x-python",
   "name": "python",
   "nbconvert_exporter": "python",
   "pygments_lexer": "ipython3",
   "version": "3.10.18"
  }
 },
 "nbformat": 4,
 "nbformat_minor": 5
}
